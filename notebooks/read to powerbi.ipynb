{
 "cells": [
  {
   "cell_type": "code",
   "execution_count": 14,
   "id": "f5e88e58",
   "metadata": {},
   "outputs": [],
   "source": [
    "import pandas as pd\n",
    "import io"
   ]
  },
  {
   "cell_type": "code",
   "execution_count": 2,
   "id": "51043118",
   "metadata": {},
   "outputs": [],
   "source": [
    "from minio import Minio"
   ]
  },
  {
   "cell_type": "code",
   "execution_count": 3,
   "id": "a123046c",
   "metadata": {},
   "outputs": [],
   "source": [
    "data_lake_server= '172.17.0.2:9000'\n",
    "data_lake_server= '127.0.0.1:9000'\n",
    "data_lake_login= 'miniouser'\n",
    "data_lake_password= 'miniopwd'\n",
    "\n",
    "client = Minio(\n",
    "        endpoint= data_lake_server,\n",
    "        access_key= data_lake_login,\n",
    "        secret_key= data_lake_password,\n",
    "        secure=False\n",
    "    )"
   ]
  },
  {
   "cell_type": "code",
   "execution_count": 26,
   "id": "98d99a83",
   "metadata": {},
   "outputs": [],
   "source": [
    "file_get_object = client.get_object(\n",
    "    bucket_name= 'processing',\n",
    "    object_name= 'olist_order_items_dataset.parquet'\n",
    ")\n",
    "\n",
    "data_frame = pd.read_parquet(io.BytesIO(file_get_object.read()))"
   ]
  },
  {
   "cell_type": "code",
   "execution_count": null,
   "id": "86ff515a",
   "metadata": {},
   "outputs": [],
   "source": []
  },
  {
   "cell_type": "code",
   "execution_count": null,
   "id": "6f068708",
   "metadata": {},
   "outputs": [],
   "source": []
  },
  {
   "cell_type": "code",
   "execution_count": 10,
   "id": "f1a28ae6",
   "metadata": {},
   "outputs": [],
   "source": [
    "import pandas as pd\n",
    "import io\n",
    "\n",
    "from minio import Minio\n",
    "\n",
    "data_lake_server= '172.17.0.2:9000'\n",
    "data_lake_server= '127.0.0.1:9000'\n",
    "data_lake_login= 'miniouser'\n",
    "data_lake_password= 'miniopwd'\n",
    "\n",
    "client = Minio(\n",
    "        endpoint= data_lake_server,\n",
    "        access_key= data_lake_login,\n",
    "        secret_key= data_lake_password,\n",
    "        secure=False\n",
    "    )\n",
    "\n",
    "def read_minio_parquet(bucket_name, file):\n",
    "    return pd.read_parquet(\n",
    "        io.BytesIO(\n",
    "            client.get_object(\n",
    "                bucket_name= bucket_name,\n",
    "                object_name= file\n",
    "            ).read()\n",
    "        )\n",
    "    )\n",
    "\n",
    "olist_order_items_dataset = read_minio_parquet(\n",
    "    bucket_name= 'processing',file= 'olist_order_items_dataset.parquet')\n",
    "olist_orders_dataset = read_minio_parquet(\n",
    "    bucket_name= 'processing',file= 'olist_orders_dataset.parquet')\n",
    "olist_sellers_dataset = read_minio_parquet(\n",
    "    bucket_name= 'processing',file= 'olist_sellers_dataset.parquet')\n",
    "olist_customers_dataset = read_minio_parquet(\n",
    "    bucket_name= 'processing',file= 'olist_customers_dataset.parquet')\n",
    "olist_products_dataset = read_minio_parquet(\n",
    "    bucket_name= 'processing',file= 'olist_products_dataset.parquet')"
   ]
  }
 ],
 "metadata": {
  "kernelspec": {
   "display_name": "Python 3",
   "language": "python",
   "name": "python3"
  },
  "language_info": {
   "codemirror_mode": {
    "name": "ipython",
    "version": 3
   },
   "file_extension": ".py",
   "mimetype": "text/x-python",
   "name": "python",
   "nbconvert_exporter": "python",
   "pygments_lexer": "ipython3",
   "version": "3.8.8"
  }
 },
 "nbformat": 4,
 "nbformat_minor": 5
}
