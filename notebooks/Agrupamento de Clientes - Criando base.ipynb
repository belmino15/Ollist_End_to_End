{
 "cells": [
  {
   "cell_type": "code",
   "execution_count": 1,
   "id": "7c70eee1",
   "metadata": {},
   "outputs": [],
   "source": [
    "import pandas as pd\n",
    "import datetime\n",
    "from minio import Minio\n",
    "\n",
    "import sys\n",
    "sys.path.append(r'D:\\Documentos\\Projetos\\Ollist_End_to_End\\airflow\\dags')\n",
    "import functions as f"
   ]
  },
  {
   "cell_type": "code",
   "execution_count": 2,
   "id": "34c1706a",
   "metadata": {},
   "outputs": [],
   "source": [
    "data_lake_server= f.var['data_lake_server_local']\n",
    "data_lake_login= f.var['data_lake_login']\n",
    "data_lake_password= f.var['data_lake_password']\n",
    "\n",
    "client = Minio(\n",
    "        endpoint= data_lake_server,\n",
    "        access_key= data_lake_login,\n",
    "        secret_key= data_lake_password,\n",
    "        secure=False\n",
    "    )"
   ]
  },
  {
   "cell_type": "markdown",
   "id": "1e05d742",
   "metadata": {},
   "source": [
    "# Importando dados"
   ]
  },
  {
   "cell_type": "markdown",
   "id": "e7406c48",
   "metadata": {},
   "source": [
    "## Clientes"
   ]
  },
  {
   "cell_type": "code",
   "execution_count": 3,
   "id": "d16e309f",
   "metadata": {},
   "outputs": [
    {
     "data": {
      "text/html": [
       "<div>\n",
       "<style scoped>\n",
       "    .dataframe tbody tr th:only-of-type {\n",
       "        vertical-align: middle;\n",
       "    }\n",
       "\n",
       "    .dataframe tbody tr th {\n",
       "        vertical-align: top;\n",
       "    }\n",
       "\n",
       "    .dataframe thead th {\n",
       "        text-align: right;\n",
       "    }\n",
       "</style>\n",
       "<table border=\"1\" class=\"dataframe\">\n",
       "  <thead>\n",
       "    <tr style=\"text-align: right;\">\n",
       "      <th></th>\n",
       "      <th>customer_id</th>\n",
       "      <th>customer_unique_id</th>\n",
       "      <th>customer_zip_code_prefix</th>\n",
       "      <th>customer_city</th>\n",
       "      <th>customer_state</th>\n",
       "    </tr>\n",
       "  </thead>\n",
       "  <tbody>\n",
       "    <tr>\n",
       "      <th>0</th>\n",
       "      <td>06b8999e2fba1a1fbc88172c00ba8bc7</td>\n",
       "      <td>861eff4711a542e4b93843c6dd7febb0</td>\n",
       "      <td>14409</td>\n",
       "      <td>franca</td>\n",
       "      <td>SP</td>\n",
       "    </tr>\n",
       "    <tr>\n",
       "      <th>1</th>\n",
       "      <td>18955e83d337fd6b2def6b18a428ac77</td>\n",
       "      <td>290c77bc529b7ac935b93aa66c333dc3</td>\n",
       "      <td>9790</td>\n",
       "      <td>sao bernardo do campo</td>\n",
       "      <td>SP</td>\n",
       "    </tr>\n",
       "    <tr>\n",
       "      <th>2</th>\n",
       "      <td>4e7b3e00288586ebd08712fdd0374a03</td>\n",
       "      <td>060e732b5b29e8181a18229c7b0b2b5e</td>\n",
       "      <td>1151</td>\n",
       "      <td>sao paulo</td>\n",
       "      <td>SP</td>\n",
       "    </tr>\n",
       "    <tr>\n",
       "      <th>3</th>\n",
       "      <td>b2b6027bc5c5109e529d4dc6358b12c3</td>\n",
       "      <td>259dac757896d24d7702b9acbbff3f3c</td>\n",
       "      <td>8775</td>\n",
       "      <td>mogi das cruzes</td>\n",
       "      <td>SP</td>\n",
       "    </tr>\n",
       "    <tr>\n",
       "      <th>4</th>\n",
       "      <td>4f2d8ab171c80ec8364f7c12e35b23ad</td>\n",
       "      <td>345ecd01c38d18a9036ed96c73b8d066</td>\n",
       "      <td>13056</td>\n",
       "      <td>campinas</td>\n",
       "      <td>SP</td>\n",
       "    </tr>\n",
       "  </tbody>\n",
       "</table>\n",
       "</div>"
      ],
      "text/plain": [
       "                        customer_id                customer_unique_id  \\\n",
       "0  06b8999e2fba1a1fbc88172c00ba8bc7  861eff4711a542e4b93843c6dd7febb0   \n",
       "1  18955e83d337fd6b2def6b18a428ac77  290c77bc529b7ac935b93aa66c333dc3   \n",
       "2  4e7b3e00288586ebd08712fdd0374a03  060e732b5b29e8181a18229c7b0b2b5e   \n",
       "3  b2b6027bc5c5109e529d4dc6358b12c3  259dac757896d24d7702b9acbbff3f3c   \n",
       "4  4f2d8ab171c80ec8364f7c12e35b23ad  345ecd01c38d18a9036ed96c73b8d066   \n",
       "\n",
       "   customer_zip_code_prefix          customer_city customer_state  \n",
       "0                     14409                 franca             SP  \n",
       "1                      9790  sao bernardo do campo             SP  \n",
       "2                      1151              sao paulo             SP  \n",
       "3                      8775        mogi das cruzes             SP  \n",
       "4                     13056               campinas             SP  "
      ]
     },
     "execution_count": 3,
     "metadata": {},
     "output_type": "execute_result"
    }
   ],
   "source": [
    "customers = pd.read_parquet(f.read_minio_file(bucket_name= 'processing', file= 'olist_customers_dataset.parquet', client= client))\n",
    "customers.head()"
   ]
  },
  {
   "cell_type": "markdown",
   "id": "f8c689fd",
   "metadata": {},
   "source": [
    "## Pedidos"
   ]
  },
  {
   "cell_type": "code",
   "execution_count": 4,
   "id": "9ddf31c3",
   "metadata": {
    "scrolled": true
   },
   "outputs": [
    {
     "data": {
      "text/html": [
       "<div>\n",
       "<style scoped>\n",
       "    .dataframe tbody tr th:only-of-type {\n",
       "        vertical-align: middle;\n",
       "    }\n",
       "\n",
       "    .dataframe tbody tr th {\n",
       "        vertical-align: top;\n",
       "    }\n",
       "\n",
       "    .dataframe thead th {\n",
       "        text-align: right;\n",
       "    }\n",
       "</style>\n",
       "<table border=\"1\" class=\"dataframe\">\n",
       "  <thead>\n",
       "    <tr style=\"text-align: right;\">\n",
       "      <th></th>\n",
       "      <th>order_id</th>\n",
       "      <th>customer_id</th>\n",
       "      <th>order_status</th>\n",
       "      <th>order_purchase_timestamp</th>\n",
       "      <th>order_approved_at</th>\n",
       "      <th>order_delivered_carrier_date</th>\n",
       "      <th>order_delivered_customer_date</th>\n",
       "      <th>order_estimated_delivery_date</th>\n",
       "    </tr>\n",
       "  </thead>\n",
       "  <tbody>\n",
       "    <tr>\n",
       "      <th>0</th>\n",
       "      <td>e481f51cbdc54678b7cc49136f2d6af7</td>\n",
       "      <td>9ef432eb6251297304e76186b10a928d</td>\n",
       "      <td>delivered</td>\n",
       "      <td>2017-10-02 10:56:33</td>\n",
       "      <td>2017-10-02 11:07:15</td>\n",
       "      <td>2017-10-04 19:55:00</td>\n",
       "      <td>2017-10-10 21:25:13</td>\n",
       "      <td>2017-10-18 00:00:00</td>\n",
       "    </tr>\n",
       "    <tr>\n",
       "      <th>1</th>\n",
       "      <td>53cdb2fc8bc7dce0b6741e2150273451</td>\n",
       "      <td>b0830fb4747a6c6d20dea0b8c802d7ef</td>\n",
       "      <td>delivered</td>\n",
       "      <td>2018-07-24 20:41:37</td>\n",
       "      <td>2018-07-26 03:24:27</td>\n",
       "      <td>2018-07-26 14:31:00</td>\n",
       "      <td>2018-08-07 15:27:45</td>\n",
       "      <td>2018-08-13 00:00:00</td>\n",
       "    </tr>\n",
       "    <tr>\n",
       "      <th>2</th>\n",
       "      <td>47770eb9100c2d0c44946d9cf07ec65d</td>\n",
       "      <td>41ce2a54c0b03bf3443c3d931a367089</td>\n",
       "      <td>delivered</td>\n",
       "      <td>2018-08-08 08:38:49</td>\n",
       "      <td>2018-08-08 08:55:23</td>\n",
       "      <td>2018-08-08 13:50:00</td>\n",
       "      <td>2018-08-17 18:06:29</td>\n",
       "      <td>2018-09-04 00:00:00</td>\n",
       "    </tr>\n",
       "    <tr>\n",
       "      <th>3</th>\n",
       "      <td>949d5b44dbf5de918fe9c16f97b45f8a</td>\n",
       "      <td>f88197465ea7920adcdbec7375364d82</td>\n",
       "      <td>delivered</td>\n",
       "      <td>2017-11-18 19:28:06</td>\n",
       "      <td>2017-11-18 19:45:59</td>\n",
       "      <td>2017-11-22 13:39:59</td>\n",
       "      <td>2017-12-02 00:28:42</td>\n",
       "      <td>2017-12-15 00:00:00</td>\n",
       "    </tr>\n",
       "    <tr>\n",
       "      <th>4</th>\n",
       "      <td>ad21c59c0840e6cb83a9ceb5573f8159</td>\n",
       "      <td>8ab97904e6daea8866dbdbc4fb7aad2c</td>\n",
       "      <td>delivered</td>\n",
       "      <td>2018-02-13 21:18:39</td>\n",
       "      <td>2018-02-13 22:20:29</td>\n",
       "      <td>2018-02-14 19:46:34</td>\n",
       "      <td>2018-02-16 18:17:02</td>\n",
       "      <td>2018-02-26 00:00:00</td>\n",
       "    </tr>\n",
       "  </tbody>\n",
       "</table>\n",
       "</div>"
      ],
      "text/plain": [
       "                           order_id                       customer_id  \\\n",
       "0  e481f51cbdc54678b7cc49136f2d6af7  9ef432eb6251297304e76186b10a928d   \n",
       "1  53cdb2fc8bc7dce0b6741e2150273451  b0830fb4747a6c6d20dea0b8c802d7ef   \n",
       "2  47770eb9100c2d0c44946d9cf07ec65d  41ce2a54c0b03bf3443c3d931a367089   \n",
       "3  949d5b44dbf5de918fe9c16f97b45f8a  f88197465ea7920adcdbec7375364d82   \n",
       "4  ad21c59c0840e6cb83a9ceb5573f8159  8ab97904e6daea8866dbdbc4fb7aad2c   \n",
       "\n",
       "  order_status order_purchase_timestamp    order_approved_at  \\\n",
       "0    delivered      2017-10-02 10:56:33  2017-10-02 11:07:15   \n",
       "1    delivered      2018-07-24 20:41:37  2018-07-26 03:24:27   \n",
       "2    delivered      2018-08-08 08:38:49  2018-08-08 08:55:23   \n",
       "3    delivered      2017-11-18 19:28:06  2017-11-18 19:45:59   \n",
       "4    delivered      2018-02-13 21:18:39  2018-02-13 22:20:29   \n",
       "\n",
       "  order_delivered_carrier_date order_delivered_customer_date  \\\n",
       "0          2017-10-04 19:55:00           2017-10-10 21:25:13   \n",
       "1          2018-07-26 14:31:00           2018-08-07 15:27:45   \n",
       "2          2018-08-08 13:50:00           2018-08-17 18:06:29   \n",
       "3          2017-11-22 13:39:59           2017-12-02 00:28:42   \n",
       "4          2018-02-14 19:46:34           2018-02-16 18:17:02   \n",
       "\n",
       "  order_estimated_delivery_date  \n",
       "0           2017-10-18 00:00:00  \n",
       "1           2018-08-13 00:00:00  \n",
       "2           2018-09-04 00:00:00  \n",
       "3           2017-12-15 00:00:00  \n",
       "4           2018-02-26 00:00:00  "
      ]
     },
     "execution_count": 4,
     "metadata": {},
     "output_type": "execute_result"
    }
   ],
   "source": [
    "orders = pd.read_parquet(\n",
    "    f.read_minio_file(bucket_name= 'processing', file= 'olist_orders_dataset.parquet', client= client)\n",
    ")\n",
    "\n",
    "orders.order_purchase_timestamp = pd.to_datetime(orders.order_purchase_timestamp)\n",
    "orders.head()"
   ]
  },
  {
   "cell_type": "markdown",
   "id": "c4fcb57b",
   "metadata": {},
   "source": [
    "## Itens de Pedidos"
   ]
  },
  {
   "cell_type": "code",
   "execution_count": 5,
   "id": "7c89a4e5",
   "metadata": {},
   "outputs": [
    {
     "data": {
      "text/html": [
       "<div>\n",
       "<style scoped>\n",
       "    .dataframe tbody tr th:only-of-type {\n",
       "        vertical-align: middle;\n",
       "    }\n",
       "\n",
       "    .dataframe tbody tr th {\n",
       "        vertical-align: top;\n",
       "    }\n",
       "\n",
       "    .dataframe thead th {\n",
       "        text-align: right;\n",
       "    }\n",
       "</style>\n",
       "<table border=\"1\" class=\"dataframe\">\n",
       "  <thead>\n",
       "    <tr style=\"text-align: right;\">\n",
       "      <th></th>\n",
       "      <th>order_id</th>\n",
       "      <th>order_item_id</th>\n",
       "      <th>product_id</th>\n",
       "      <th>seller_id</th>\n",
       "      <th>shipping_limit_date</th>\n",
       "      <th>price</th>\n",
       "      <th>freight_value</th>\n",
       "    </tr>\n",
       "  </thead>\n",
       "  <tbody>\n",
       "    <tr>\n",
       "      <th>0</th>\n",
       "      <td>00010242fe8c5a6d1ba2dd792cb16214</td>\n",
       "      <td>1</td>\n",
       "      <td>4244733e06e7ecb4970a6e2683c13e61</td>\n",
       "      <td>48436dade18ac8b2bce089ec2a041202</td>\n",
       "      <td>2017-09-19 09:45:35</td>\n",
       "      <td>58.90</td>\n",
       "      <td>13.29</td>\n",
       "    </tr>\n",
       "    <tr>\n",
       "      <th>1</th>\n",
       "      <td>00018f77f2f0320c557190d7a144bdd3</td>\n",
       "      <td>1</td>\n",
       "      <td>e5f2d52b802189ee658865ca93d83a8f</td>\n",
       "      <td>dd7ddc04e1b6c2c614352b383efe2d36</td>\n",
       "      <td>2017-05-03 11:05:13</td>\n",
       "      <td>239.90</td>\n",
       "      <td>19.93</td>\n",
       "    </tr>\n",
       "    <tr>\n",
       "      <th>2</th>\n",
       "      <td>000229ec398224ef6ca0657da4fc703e</td>\n",
       "      <td>1</td>\n",
       "      <td>c777355d18b72b67abbeef9df44fd0fd</td>\n",
       "      <td>5b51032eddd242adc84c38acab88f23d</td>\n",
       "      <td>2018-01-18 14:48:30</td>\n",
       "      <td>199.00</td>\n",
       "      <td>17.87</td>\n",
       "    </tr>\n",
       "    <tr>\n",
       "      <th>3</th>\n",
       "      <td>00024acbcdf0a6daa1e931b038114c75</td>\n",
       "      <td>1</td>\n",
       "      <td>7634da152a4610f1595efa32f14722fc</td>\n",
       "      <td>9d7a1d34a5052409006425275ba1c2b4</td>\n",
       "      <td>2018-08-15 10:10:18</td>\n",
       "      <td>12.99</td>\n",
       "      <td>12.79</td>\n",
       "    </tr>\n",
       "    <tr>\n",
       "      <th>4</th>\n",
       "      <td>00042b26cf59d7ce69dfabb4e55b4fd9</td>\n",
       "      <td>1</td>\n",
       "      <td>ac6c3623068f30de03045865e4e10089</td>\n",
       "      <td>df560393f3a51e74553ab94004ba5c87</td>\n",
       "      <td>2017-02-13 13:57:51</td>\n",
       "      <td>199.90</td>\n",
       "      <td>18.14</td>\n",
       "    </tr>\n",
       "  </tbody>\n",
       "</table>\n",
       "</div>"
      ],
      "text/plain": [
       "                           order_id  order_item_id  \\\n",
       "0  00010242fe8c5a6d1ba2dd792cb16214              1   \n",
       "1  00018f77f2f0320c557190d7a144bdd3              1   \n",
       "2  000229ec398224ef6ca0657da4fc703e              1   \n",
       "3  00024acbcdf0a6daa1e931b038114c75              1   \n",
       "4  00042b26cf59d7ce69dfabb4e55b4fd9              1   \n",
       "\n",
       "                         product_id                         seller_id  \\\n",
       "0  4244733e06e7ecb4970a6e2683c13e61  48436dade18ac8b2bce089ec2a041202   \n",
       "1  e5f2d52b802189ee658865ca93d83a8f  dd7ddc04e1b6c2c614352b383efe2d36   \n",
       "2  c777355d18b72b67abbeef9df44fd0fd  5b51032eddd242adc84c38acab88f23d   \n",
       "3  7634da152a4610f1595efa32f14722fc  9d7a1d34a5052409006425275ba1c2b4   \n",
       "4  ac6c3623068f30de03045865e4e10089  df560393f3a51e74553ab94004ba5c87   \n",
       "\n",
       "   shipping_limit_date   price  freight_value  \n",
       "0  2017-09-19 09:45:35   58.90          13.29  \n",
       "1  2017-05-03 11:05:13  239.90          19.93  \n",
       "2  2018-01-18 14:48:30  199.00          17.87  \n",
       "3  2018-08-15 10:10:18   12.99          12.79  \n",
       "4  2017-02-13 13:57:51  199.90          18.14  "
      ]
     },
     "execution_count": 5,
     "metadata": {},
     "output_type": "execute_result"
    }
   ],
   "source": [
    "order_items = pd.read_parquet(\n",
    "    f.read_minio_file(bucket_name= 'processing', file= 'olist_order_items_dataset.parquet', client= client)\n",
    ")\n",
    "\n",
    "order_items.head()"
   ]
  },
  {
   "cell_type": "code",
   "execution_count": null,
   "id": "2ce4cf20",
   "metadata": {},
   "outputs": [],
   "source": []
  },
  {
   "cell_type": "markdown",
   "id": "e6cad3dc",
   "metadata": {},
   "source": [
    "## Geolocalização"
   ]
  },
  {
   "cell_type": "code",
   "execution_count": 6,
   "id": "bfa99d17",
   "metadata": {},
   "outputs": [
    {
     "data": {
      "text/html": [
       "<div>\n",
       "<style scoped>\n",
       "    .dataframe tbody tr th:only-of-type {\n",
       "        vertical-align: middle;\n",
       "    }\n",
       "\n",
       "    .dataframe tbody tr th {\n",
       "        vertical-align: top;\n",
       "    }\n",
       "\n",
       "    .dataframe thead th {\n",
       "        text-align: right;\n",
       "    }\n",
       "</style>\n",
       "<table border=\"1\" class=\"dataframe\">\n",
       "  <thead>\n",
       "    <tr style=\"text-align: right;\">\n",
       "      <th></th>\n",
       "      <th>geolocation_zip_code_prefix</th>\n",
       "      <th>geolocation_lat</th>\n",
       "      <th>geolocation_lng</th>\n",
       "      <th>geolocation_city</th>\n",
       "      <th>geolocation_state</th>\n",
       "    </tr>\n",
       "  </thead>\n",
       "  <tbody>\n",
       "    <tr>\n",
       "      <th>0</th>\n",
       "      <td>1037</td>\n",
       "      <td>-23.545621</td>\n",
       "      <td>-46.639292</td>\n",
       "      <td>sao paulo</td>\n",
       "      <td>SP</td>\n",
       "    </tr>\n",
       "    <tr>\n",
       "      <th>1</th>\n",
       "      <td>1046</td>\n",
       "      <td>-23.546081</td>\n",
       "      <td>-46.644820</td>\n",
       "      <td>sao paulo</td>\n",
       "      <td>SP</td>\n",
       "    </tr>\n",
       "    <tr>\n",
       "      <th>2</th>\n",
       "      <td>1046</td>\n",
       "      <td>-23.546129</td>\n",
       "      <td>-46.642951</td>\n",
       "      <td>sao paulo</td>\n",
       "      <td>SP</td>\n",
       "    </tr>\n",
       "    <tr>\n",
       "      <th>3</th>\n",
       "      <td>1041</td>\n",
       "      <td>-23.544392</td>\n",
       "      <td>-46.639499</td>\n",
       "      <td>sao paulo</td>\n",
       "      <td>SP</td>\n",
       "    </tr>\n",
       "    <tr>\n",
       "      <th>4</th>\n",
       "      <td>1035</td>\n",
       "      <td>-23.541578</td>\n",
       "      <td>-46.641607</td>\n",
       "      <td>sao paulo</td>\n",
       "      <td>SP</td>\n",
       "    </tr>\n",
       "  </tbody>\n",
       "</table>\n",
       "</div>"
      ],
      "text/plain": [
       "   geolocation_zip_code_prefix  geolocation_lat  geolocation_lng  \\\n",
       "0                         1037       -23.545621       -46.639292   \n",
       "1                         1046       -23.546081       -46.644820   \n",
       "2                         1046       -23.546129       -46.642951   \n",
       "3                         1041       -23.544392       -46.639499   \n",
       "4                         1035       -23.541578       -46.641607   \n",
       "\n",
       "  geolocation_city geolocation_state  \n",
       "0        sao paulo                SP  \n",
       "1        sao paulo                SP  \n",
       "2        sao paulo                SP  \n",
       "3        sao paulo                SP  \n",
       "4        sao paulo                SP  "
      ]
     },
     "execution_count": 6,
     "metadata": {},
     "output_type": "execute_result"
    }
   ],
   "source": [
    "geo = pd.read_csv(\n",
    "    f.read_minio_file(bucket_name= 'landing', file= 'olist_geolocation_dataset.csv', client= client)\n",
    ")\n",
    "\n",
    "geo.head()"
   ]
  },
  {
   "cell_type": "code",
   "execution_count": null,
   "id": "6b78ec9e",
   "metadata": {},
   "outputs": [],
   "source": []
  },
  {
   "cell_type": "markdown",
   "id": "9629b1a9",
   "metadata": {},
   "source": [
    "# Validando dados"
   ]
  },
  {
   "cell_type": "markdown",
   "id": "1fa466ee",
   "metadata": {},
   "source": [
    "## customers"
   ]
  },
  {
   "cell_type": "code",
   "execution_count": 7,
   "id": "e33e2157",
   "metadata": {},
   "outputs": [
    {
     "data": {
      "text/html": [
       "<div>\n",
       "<style scoped>\n",
       "    .dataframe tbody tr th:only-of-type {\n",
       "        vertical-align: middle;\n",
       "    }\n",
       "\n",
       "    .dataframe tbody tr th {\n",
       "        vertical-align: top;\n",
       "    }\n",
       "\n",
       "    .dataframe thead th {\n",
       "        text-align: right;\n",
       "    }\n",
       "</style>\n",
       "<table border=\"1\" class=\"dataframe\">\n",
       "  <thead>\n",
       "    <tr style=\"text-align: right;\">\n",
       "      <th></th>\n",
       "      <th>customer_id</th>\n",
       "      <th>customer_unique_id</th>\n",
       "      <th>customer_zip_code_prefix</th>\n",
       "      <th>customer_city</th>\n",
       "      <th>customer_state</th>\n",
       "    </tr>\n",
       "  </thead>\n",
       "  <tbody>\n",
       "    <tr>\n",
       "      <th>59052</th>\n",
       "      <td>a0e08b8248764d911334b7997a7de1d0</td>\n",
       "      <td>b836c760452c9a9995ad085214812c9f</td>\n",
       "      <td>4727</td>\n",
       "      <td>sao paulo</td>\n",
       "      <td>SP</td>\n",
       "    </tr>\n",
       "  </tbody>\n",
       "</table>\n",
       "</div>"
      ],
      "text/plain": [
       "                            customer_id                customer_unique_id  \\\n",
       "59052  a0e08b8248764d911334b7997a7de1d0  b836c760452c9a9995ad085214812c9f   \n",
       "\n",
       "       customer_zip_code_prefix customer_city customer_state  \n",
       "59052                      4727     sao paulo             SP  "
      ]
     },
     "execution_count": 7,
     "metadata": {},
     "output_type": "execute_result"
    }
   ],
   "source": [
    "customers.sample()"
   ]
  },
  {
   "cell_type": "code",
   "execution_count": 8,
   "id": "8edae196",
   "metadata": {},
   "outputs": [
    {
     "name": "stdout",
     "output_type": "stream",
     "text": [
      "Há 99441 linhas e 99441 clientes únicos\n"
     ]
    }
   ],
   "source": [
    "print('Há {} linhas e {} clientes únicos'.format(customers.shape[0], len(customers.customer_id.unique())))"
   ]
  },
  {
   "cell_type": "code",
   "execution_count": null,
   "id": "3ae9f91c",
   "metadata": {},
   "outputs": [],
   "source": []
  },
  {
   "cell_type": "markdown",
   "id": "14980bdd",
   "metadata": {},
   "source": [
    "## orders"
   ]
  },
  {
   "cell_type": "code",
   "execution_count": 9,
   "id": "0cfd1c83",
   "metadata": {},
   "outputs": [
    {
     "data": {
      "text/html": [
       "<div>\n",
       "<style scoped>\n",
       "    .dataframe tbody tr th:only-of-type {\n",
       "        vertical-align: middle;\n",
       "    }\n",
       "\n",
       "    .dataframe tbody tr th {\n",
       "        vertical-align: top;\n",
       "    }\n",
       "\n",
       "    .dataframe thead th {\n",
       "        text-align: right;\n",
       "    }\n",
       "</style>\n",
       "<table border=\"1\" class=\"dataframe\">\n",
       "  <thead>\n",
       "    <tr style=\"text-align: right;\">\n",
       "      <th></th>\n",
       "      <th>order_id</th>\n",
       "      <th>customer_id</th>\n",
       "      <th>order_status</th>\n",
       "      <th>order_purchase_timestamp</th>\n",
       "      <th>order_approved_at</th>\n",
       "      <th>order_delivered_carrier_date</th>\n",
       "      <th>order_delivered_customer_date</th>\n",
       "      <th>order_estimated_delivery_date</th>\n",
       "    </tr>\n",
       "  </thead>\n",
       "  <tbody>\n",
       "    <tr>\n",
       "      <th>76051</th>\n",
       "      <td>eacb21138eac9fdf867afdaca6a39698</td>\n",
       "      <td>1b155d898d2a9c2fec690a22e52df81d</td>\n",
       "      <td>delivered</td>\n",
       "      <td>2018-08-13 22:37:22</td>\n",
       "      <td>2018-08-13 22:50:18</td>\n",
       "      <td>2018-08-14 12:50:00</td>\n",
       "      <td>2018-08-20 23:12:22</td>\n",
       "      <td>2018-08-24 00:00:00</td>\n",
       "    </tr>\n",
       "  </tbody>\n",
       "</table>\n",
       "</div>"
      ],
      "text/plain": [
       "                               order_id                       customer_id  \\\n",
       "76051  eacb21138eac9fdf867afdaca6a39698  1b155d898d2a9c2fec690a22e52df81d   \n",
       "\n",
       "      order_status order_purchase_timestamp    order_approved_at  \\\n",
       "76051    delivered      2018-08-13 22:37:22  2018-08-13 22:50:18   \n",
       "\n",
       "      order_delivered_carrier_date order_delivered_customer_date  \\\n",
       "76051          2018-08-14 12:50:00           2018-08-20 23:12:22   \n",
       "\n",
       "      order_estimated_delivery_date  \n",
       "76051           2018-08-24 00:00:00  "
      ]
     },
     "execution_count": 9,
     "metadata": {},
     "output_type": "execute_result"
    }
   ],
   "source": [
    "orders.sample()"
   ]
  },
  {
   "cell_type": "code",
   "execution_count": 10,
   "id": "e904e99b",
   "metadata": {},
   "outputs": [
    {
     "name": "stdout",
     "output_type": "stream",
     "text": [
      "Há 99441 pedidos\n"
     ]
    }
   ],
   "source": [
    "print('Há {} pedidos'.format(orders.order_id.unique().shape[0]))"
   ]
  },
  {
   "cell_type": "code",
   "execution_count": 11,
   "id": "95f93a72",
   "metadata": {},
   "outputs": [
    {
     "data": {
      "text/plain": [
       "order_id                            0\n",
       "customer_id                         0\n",
       "order_status                        0\n",
       "order_purchase_timestamp            0\n",
       "order_approved_at                 160\n",
       "order_delivered_carrier_date     1783\n",
       "order_delivered_customer_date    2965\n",
       "order_estimated_delivery_date       0\n",
       "dtype: int64"
      ]
     },
     "execution_count": 11,
     "metadata": {},
     "output_type": "execute_result"
    }
   ],
   "source": [
    "orders.isnull().sum()"
   ]
  },
  {
   "cell_type": "markdown",
   "id": "436c34a4",
   "metadata": {},
   "source": [
    " - Não há valores nulos nas colunas de **'customer_id'** e **'order_purchase_timestamp'**"
   ]
  },
  {
   "cell_type": "code",
   "execution_count": 12,
   "id": "bf544a37",
   "metadata": {},
   "outputs": [
    {
     "name": "stdout",
     "output_type": "stream",
     "text": [
      "Há 99441 clientes únicos na base de pedidos\n"
     ]
    }
   ],
   "source": [
    "print('Há {} clientes únicos na base de pedidos'.format(orders.customer_id.unique().shape[0]))"
   ]
  },
  {
   "cell_type": "markdown",
   "id": "9d731fd2",
   "metadata": {},
   "source": [
    "- O número é igual a quantidade de clientes na base de clientes"
   ]
  },
  {
   "cell_type": "markdown",
   "id": "00dd5edc",
   "metadata": {},
   "source": [
    "#### Última compra registrada"
   ]
  },
  {
   "cell_type": "code",
   "execution_count": 13,
   "id": "9e0fe99a",
   "metadata": {},
   "outputs": [],
   "source": [
    "ult_compra = orders.order_purchase_timestamp.max()"
   ]
  },
  {
   "cell_type": "code",
   "execution_count": null,
   "id": "102ca3a5",
   "metadata": {},
   "outputs": [],
   "source": []
  },
  {
   "cell_type": "markdown",
   "id": "5b6187e8",
   "metadata": {},
   "source": [
    "## order_items"
   ]
  },
  {
   "cell_type": "code",
   "execution_count": 14,
   "id": "c934979e",
   "metadata": {},
   "outputs": [
    {
     "data": {
      "text/html": [
       "<div>\n",
       "<style scoped>\n",
       "    .dataframe tbody tr th:only-of-type {\n",
       "        vertical-align: middle;\n",
       "    }\n",
       "\n",
       "    .dataframe tbody tr th {\n",
       "        vertical-align: top;\n",
       "    }\n",
       "\n",
       "    .dataframe thead th {\n",
       "        text-align: right;\n",
       "    }\n",
       "</style>\n",
       "<table border=\"1\" class=\"dataframe\">\n",
       "  <thead>\n",
       "    <tr style=\"text-align: right;\">\n",
       "      <th></th>\n",
       "      <th>order_id</th>\n",
       "      <th>order_item_id</th>\n",
       "      <th>product_id</th>\n",
       "      <th>seller_id</th>\n",
       "      <th>shipping_limit_date</th>\n",
       "      <th>price</th>\n",
       "      <th>freight_value</th>\n",
       "    </tr>\n",
       "  </thead>\n",
       "  <tbody>\n",
       "    <tr>\n",
       "      <th>73212</th>\n",
       "      <td>a6e9b80a7636eb8dd592dbb3e20d0a91</td>\n",
       "      <td>1</td>\n",
       "      <td>11250b0d4b709fee92441c5f34122aed</td>\n",
       "      <td>e59aa562b9f8076dd550fcddf0e73491</td>\n",
       "      <td>2018-06-07 09:31:41</td>\n",
       "      <td>465.0</td>\n",
       "      <td>25.79</td>\n",
       "    </tr>\n",
       "  </tbody>\n",
       "</table>\n",
       "</div>"
      ],
      "text/plain": [
       "                               order_id  order_item_id  \\\n",
       "73212  a6e9b80a7636eb8dd592dbb3e20d0a91              1   \n",
       "\n",
       "                             product_id                         seller_id  \\\n",
       "73212  11250b0d4b709fee92441c5f34122aed  e59aa562b9f8076dd550fcddf0e73491   \n",
       "\n",
       "       shipping_limit_date  price  freight_value  \n",
       "73212  2018-06-07 09:31:41  465.0          25.79  "
      ]
     },
     "execution_count": 14,
     "metadata": {},
     "output_type": "execute_result"
    }
   ],
   "source": [
    "order_items.sample()"
   ]
  },
  {
   "cell_type": "code",
   "execution_count": 15,
   "id": "6f3ddc86",
   "metadata": {},
   "outputs": [
    {
     "data": {
      "text/plain": [
       "(112650, 7)"
      ]
     },
     "execution_count": 15,
     "metadata": {},
     "output_type": "execute_result"
    }
   ],
   "source": [
    "order_items.shape"
   ]
  },
  {
   "cell_type": "code",
   "execution_count": 16,
   "id": "5ce137f1",
   "metadata": {
    "scrolled": true
   },
   "outputs": [
    {
     "data": {
      "text/plain": [
       "order_id               0\n",
       "order_item_id          0\n",
       "product_id             0\n",
       "seller_id              0\n",
       "shipping_limit_date    0\n",
       "price                  0\n",
       "freight_value          0\n",
       "dtype: int64"
      ]
     },
     "execution_count": 16,
     "metadata": {},
     "output_type": "execute_result"
    }
   ],
   "source": [
    "order_items.isnull().sum()"
   ]
  },
  {
   "cell_type": "markdown",
   "id": "a5373bcf",
   "metadata": {},
   "source": [
    " - Não há valores nulos"
   ]
  },
  {
   "cell_type": "code",
   "execution_count": 17,
   "id": "2a9bd6cf",
   "metadata": {},
   "outputs": [
    {
     "name": "stdout",
     "output_type": "stream",
     "text": [
      "Há 98666 pedidos únicos na base de itens de pedido\n"
     ]
    }
   ],
   "source": [
    "print('Há {} pedidos únicos na base de itens de pedido'.format(order_items.order_id.unique().shape[0]))"
   ]
  },
  {
   "cell_type": "markdown",
   "id": "3578472b",
   "metadata": {},
   "source": [
    "#### Porque há menos pedidos na base de itens que na base de pedidos?"
   ]
  },
  {
   "cell_type": "code",
   "execution_count": 18,
   "id": "fa42eaf0",
   "metadata": {},
   "outputs": [],
   "source": [
    "list_order_items = order_items.order_id.to_list()"
   ]
  },
  {
   "cell_type": "code",
   "execution_count": 19,
   "id": "eec6f00e",
   "metadata": {},
   "outputs": [
    {
     "data": {
      "text/plain": [
       "unavailable    603\n",
       "canceled       164\n",
       "created          5\n",
       "invoiced         2\n",
       "shipped          1\n",
       "Name: order_status, dtype: int64"
      ]
     },
     "execution_count": 19,
     "metadata": {},
     "output_type": "execute_result"
    }
   ],
   "source": [
    "orders[~orders.order_id.isin(list_order_items)].order_status.value_counts()"
   ]
  },
  {
   "cell_type": "markdown",
   "id": "6491986a",
   "metadata": {},
   "source": [
    "- Dessa forma podemos validar que os pedidos sem preço se tratam de pedidos não entregues ainda. Assim, serão descartados na análise de agrupamento de clientes"
   ]
  },
  {
   "cell_type": "code",
   "execution_count": null,
   "id": "6f6da67f",
   "metadata": {},
   "outputs": [],
   "source": []
  },
  {
   "cell_type": "markdown",
   "id": "c4a35224",
   "metadata": {},
   "source": [
    "## geo"
   ]
  },
  {
   "cell_type": "code",
   "execution_count": 20,
   "id": "da7d5ca2",
   "metadata": {},
   "outputs": [
    {
     "data": {
      "text/plain": [
       "972251"
      ]
     },
     "execution_count": 20,
     "metadata": {},
     "output_type": "execute_result"
    }
   ],
   "source": [
    "geo[['geolocation_zip_code_prefix', 'geolocation_city', 'geolocation_state']].duplicated().sum()"
   ]
  },
  {
   "cell_type": "code",
   "execution_count": null,
   "id": "319d57f2",
   "metadata": {},
   "outputs": [],
   "source": []
  },
  {
   "cell_type": "markdown",
   "id": "4f2de59b",
   "metadata": {},
   "source": [
    "# Agrupamento de Clientes"
   ]
  },
  {
   "cell_type": "markdown",
   "id": "9c828d40",
   "metadata": {},
   "source": [
    "## Criando bases auxiliares"
   ]
  },
  {
   "cell_type": "markdown",
   "id": "5592598c",
   "metadata": {},
   "source": [
    "### Preço total de compras"
   ]
  },
  {
   "cell_type": "code",
   "execution_count": 21,
   "id": "0287e314",
   "metadata": {},
   "outputs": [],
   "source": [
    "price_per_order = order_items.groupby('order_id').price.sum().reset_index().rename(columns= {'price': 'monetary'})\n",
    "\n",
    "orders = pd.merge(orders, price_per_order, on= 'order_id', how= 'inner')"
   ]
  },
  {
   "cell_type": "markdown",
   "id": "c82a2bc3",
   "metadata": {},
   "source": [
    "### Data da última compra"
   ]
  },
  {
   "cell_type": "code",
   "execution_count": 22,
   "id": "2ad4d544",
   "metadata": {},
   "outputs": [],
   "source": [
    "orders['days_ult_compra'] = (ult_compra - orders.order_purchase_timestamp).dt.days"
   ]
  },
  {
   "cell_type": "markdown",
   "id": "63d18d82",
   "metadata": {},
   "source": [
    "### Unindo customers e geolocation"
   ]
  },
  {
   "cell_type": "code",
   "execution_count": 23,
   "id": "edb77b17",
   "metadata": {},
   "outputs": [],
   "source": [
    "geo_means = geo.groupby(\n",
    "        ['geolocation_zip_code_prefix', 'geolocation_city', 'geolocation_state']\n",
    "    )[['geolocation_lat', 'geolocation_lng']].mean().reset_index()\n",
    "\n",
    "customers = customers.merge(\n",
    "    geo_means,\n",
    "    left_on= ['customer_zip_code_prefix', 'customer_city', 'customer_state'],\n",
    "    right_on= ['geolocation_zip_code_prefix', 'geolocation_city', 'geolocation_state'],\n",
    "    how= 'left').drop(columns= ['geolocation_zip_code_prefix', 'geolocation_city', 'geolocation_state'])\n",
    "\n",
    "del geo_means"
   ]
  },
  {
   "cell_type": "markdown",
   "id": "2fb8be66",
   "metadata": {},
   "source": [
    "## Dataframe RFM"
   ]
  },
  {
   "cell_type": "code",
   "execution_count": 24,
   "id": "ca0ae44b",
   "metadata": {},
   "outputs": [],
   "source": [
    "df_rfm = \\\n",
    "pd.merge(\n",
    "    customers[['customer_unique_id', 'customer_id', 'geolocation_lat', 'geolocation_lng']],\n",
    "    orders[['customer_id', 'monetary', 'days_ult_compra']],\n",
    "    on= 'customer_id',\n",
    "    how= 'left')\\\n",
    ".groupby('customer_unique_id')\\\n",
    ".agg({\n",
    "    'geolocation_lat': 'mean',\n",
    "    'geolocation_lng': 'mean',\n",
    "    'customer_id': 'count',\n",
    "    'monetary': 'sum',\n",
    "    'days_ult_compra': 'min'\n",
    "}).reset_index()\\\n",
    ".rename(\n",
    "    columns= {\n",
    "        'customer_id': 'frequency',\n",
    "        'days_ult_compra': 'recency'\n",
    "    }\n",
    ")"
   ]
  },
  {
   "cell_type": "code",
   "execution_count": null,
   "id": "d65adc4f",
   "metadata": {},
   "outputs": [],
   "source": []
  },
  {
   "cell_type": "markdown",
   "id": "e8d7e5ea",
   "metadata": {},
   "source": [
    "#### Validação dos valores"
   ]
  },
  {
   "cell_type": "code",
   "execution_count": 25,
   "id": "2cd0bef5",
   "metadata": {},
   "outputs": [
    {
     "data": {
      "text/html": [
       "<div>\n",
       "<style scoped>\n",
       "    .dataframe tbody tr th:only-of-type {\n",
       "        vertical-align: middle;\n",
       "    }\n",
       "\n",
       "    .dataframe tbody tr th {\n",
       "        vertical-align: top;\n",
       "    }\n",
       "\n",
       "    .dataframe thead th {\n",
       "        text-align: right;\n",
       "    }\n",
       "</style>\n",
       "<table border=\"1\" class=\"dataframe\">\n",
       "  <thead>\n",
       "    <tr style=\"text-align: right;\">\n",
       "      <th></th>\n",
       "      <th>customer_unique_id</th>\n",
       "      <th>geolocation_lat</th>\n",
       "      <th>geolocation_lng</th>\n",
       "      <th>frequency</th>\n",
       "      <th>monetary</th>\n",
       "      <th>recency</th>\n",
       "    </tr>\n",
       "  </thead>\n",
       "  <tbody>\n",
       "    <tr>\n",
       "      <th>87296</th>\n",
       "      <td>e84e318fa505b77fd51fcc2b2a897f84</td>\n",
       "      <td>-23.526506</td>\n",
       "      <td>-46.535772</td>\n",
       "      <td>1</td>\n",
       "      <td>19.99</td>\n",
       "      <td>78.0</td>\n",
       "    </tr>\n",
       "  </tbody>\n",
       "</table>\n",
       "</div>"
      ],
      "text/plain": [
       "                     customer_unique_id  geolocation_lat  geolocation_lng  \\\n",
       "87296  e84e318fa505b77fd51fcc2b2a897f84       -23.526506       -46.535772   \n",
       "\n",
       "       frequency  monetary  recency  \n",
       "87296          1     19.99     78.0  "
      ]
     },
     "execution_count": 25,
     "metadata": {},
     "output_type": "execute_result"
    }
   ],
   "source": [
    "df_rfm.sample()"
   ]
  },
  {
   "cell_type": "code",
   "execution_count": 47,
   "id": "a4d8f295",
   "metadata": {},
   "outputs": [],
   "source": [
    "id_order = '003f4901fdb60ae9c1e2538b84c208e1'"
   ]
  },
  {
   "cell_type": "code",
   "execution_count": 48,
   "id": "157eae01",
   "metadata": {},
   "outputs": [
    {
     "data": {
      "text/html": [
       "<div>\n",
       "<style scoped>\n",
       "    .dataframe tbody tr th:only-of-type {\n",
       "        vertical-align: middle;\n",
       "    }\n",
       "\n",
       "    .dataframe tbody tr th {\n",
       "        vertical-align: top;\n",
       "    }\n",
       "\n",
       "    .dataframe thead th {\n",
       "        text-align: right;\n",
       "    }\n",
       "</style>\n",
       "<table border=\"1\" class=\"dataframe\">\n",
       "  <thead>\n",
       "    <tr style=\"text-align: right;\">\n",
       "      <th></th>\n",
       "      <th>customer_id</th>\n",
       "      <th>customer_unique_id</th>\n",
       "      <th>customer_zip_code_prefix</th>\n",
       "      <th>customer_city</th>\n",
       "      <th>customer_state</th>\n",
       "      <th>geolocation_lat</th>\n",
       "      <th>geolocation_lng</th>\n",
       "    </tr>\n",
       "  </thead>\n",
       "  <tbody>\n",
       "    <tr>\n",
       "      <th>17627</th>\n",
       "      <td>bd15f9ff1287103a05384574f0525d58</td>\n",
       "      <td>003f4901fdb60ae9c1e2538b84c208e1</td>\n",
       "      <td>73255</td>\n",
       "      <td>brasilia</td>\n",
       "      <td>DF</td>\n",
       "      <td>NaN</td>\n",
       "      <td>NaN</td>\n",
       "    </tr>\n",
       "  </tbody>\n",
       "</table>\n",
       "</div>"
      ],
      "text/plain": [
       "                            customer_id                customer_unique_id  \\\n",
       "17627  bd15f9ff1287103a05384574f0525d58  003f4901fdb60ae9c1e2538b84c208e1   \n",
       "\n",
       "       customer_zip_code_prefix customer_city customer_state  geolocation_lat  \\\n",
       "17627                     73255      brasilia             DF              NaN   \n",
       "\n",
       "       geolocation_lng  \n",
       "17627              NaN  "
      ]
     },
     "execution_count": 48,
     "metadata": {},
     "output_type": "execute_result"
    }
   ],
   "source": [
    "customers[customers.customer_unique_id == id_order]"
   ]
  },
  {
   "cell_type": "code",
   "execution_count": 49,
   "id": "bc0ae299",
   "metadata": {},
   "outputs": [
    {
     "data": {
      "text/html": [
       "<div>\n",
       "<style scoped>\n",
       "    .dataframe tbody tr th:only-of-type {\n",
       "        vertical-align: middle;\n",
       "    }\n",
       "\n",
       "    .dataframe tbody tr th {\n",
       "        vertical-align: top;\n",
       "    }\n",
       "\n",
       "    .dataframe thead th {\n",
       "        text-align: right;\n",
       "    }\n",
       "</style>\n",
       "<table border=\"1\" class=\"dataframe\">\n",
       "  <thead>\n",
       "    <tr style=\"text-align: right;\">\n",
       "      <th></th>\n",
       "      <th>order_id</th>\n",
       "      <th>customer_id</th>\n",
       "      <th>order_status</th>\n",
       "      <th>order_purchase_timestamp</th>\n",
       "      <th>order_approved_at</th>\n",
       "      <th>order_delivered_carrier_date</th>\n",
       "      <th>order_delivered_customer_date</th>\n",
       "      <th>order_estimated_delivery_date</th>\n",
       "      <th>monetary</th>\n",
       "      <th>days_ult_compra</th>\n",
       "    </tr>\n",
       "  </thead>\n",
       "  <tbody>\n",
       "    <tr>\n",
       "      <th>40667</th>\n",
       "      <td>7ff2fc53faa0627c1754a4b00e5f65f2</td>\n",
       "      <td>bd15f9ff1287103a05384574f0525d58</td>\n",
       "      <td>delivered</td>\n",
       "      <td>2017-11-19 20:22:47</td>\n",
       "      <td>2017-11-19 20:35:21</td>\n",
       "      <td>2017-11-29 00:21:51</td>\n",
       "      <td>2017-12-06 20:18:05</td>\n",
       "      <td>2017-12-11 00:00:00</td>\n",
       "      <td>148.0</td>\n",
       "      <td>331</td>\n",
       "    </tr>\n",
       "  </tbody>\n",
       "</table>\n",
       "</div>"
      ],
      "text/plain": [
       "                               order_id                       customer_id  \\\n",
       "40667  7ff2fc53faa0627c1754a4b00e5f65f2  bd15f9ff1287103a05384574f0525d58   \n",
       "\n",
       "      order_status order_purchase_timestamp    order_approved_at  \\\n",
       "40667    delivered      2017-11-19 20:22:47  2017-11-19 20:35:21   \n",
       "\n",
       "      order_delivered_carrier_date order_delivered_customer_date  \\\n",
       "40667          2017-11-29 00:21:51           2017-12-06 20:18:05   \n",
       "\n",
       "      order_estimated_delivery_date  monetary  days_ult_compra  \n",
       "40667           2017-12-11 00:00:00     148.0              331  "
      ]
     },
     "execution_count": 49,
     "metadata": {},
     "output_type": "execute_result"
    }
   ],
   "source": [
    "customer_id_list = customers[customers.customer_unique_id == id_order].customer_id.to_list()\n",
    "orders[orders.customer_id.isin(customer_id_list)]"
   ]
  },
  {
   "cell_type": "code",
   "execution_count": 50,
   "id": "83df46a2",
   "metadata": {},
   "outputs": [
    {
     "data": {
      "text/html": [
       "<div>\n",
       "<style scoped>\n",
       "    .dataframe tbody tr th:only-of-type {\n",
       "        vertical-align: middle;\n",
       "    }\n",
       "\n",
       "    .dataframe tbody tr th {\n",
       "        vertical-align: top;\n",
       "    }\n",
       "\n",
       "    .dataframe thead th {\n",
       "        text-align: right;\n",
       "    }\n",
       "</style>\n",
       "<table border=\"1\" class=\"dataframe\">\n",
       "  <thead>\n",
       "    <tr style=\"text-align: right;\">\n",
       "      <th></th>\n",
       "      <th>order_id</th>\n",
       "      <th>order_item_id</th>\n",
       "      <th>product_id</th>\n",
       "      <th>seller_id</th>\n",
       "      <th>shipping_limit_date</th>\n",
       "      <th>price</th>\n",
       "      <th>freight_value</th>\n",
       "    </tr>\n",
       "  </thead>\n",
       "  <tbody>\n",
       "    <tr>\n",
       "      <th>56246</th>\n",
       "      <td>7ff2fc53faa0627c1754a4b00e5f65f2</td>\n",
       "      <td>1</td>\n",
       "      <td>b7f980dbd49d4059a8c4acbada394e4b</td>\n",
       "      <td>c826c40d7b19f62a09e2d7c5e7295ee2</td>\n",
       "      <td>2017-11-23 20:30:34</td>\n",
       "      <td>148.0</td>\n",
       "      <td>14.79</td>\n",
       "    </tr>\n",
       "  </tbody>\n",
       "</table>\n",
       "</div>"
      ],
      "text/plain": [
       "                               order_id  order_item_id  \\\n",
       "56246  7ff2fc53faa0627c1754a4b00e5f65f2              1   \n",
       "\n",
       "                             product_id                         seller_id  \\\n",
       "56246  b7f980dbd49d4059a8c4acbada394e4b  c826c40d7b19f62a09e2d7c5e7295ee2   \n",
       "\n",
       "       shipping_limit_date  price  freight_value  \n",
       "56246  2017-11-23 20:30:34  148.0          14.79  "
      ]
     },
     "execution_count": 50,
     "metadata": {},
     "output_type": "execute_result"
    }
   ],
   "source": [
    "order_list = orders[orders.customer_id.isin(customer_id_list)].order_id.to_list()\n",
    "order_items[order_items.order_id.isin(order_list)]"
   ]
  },
  {
   "cell_type": "code",
   "execution_count": null,
   "id": "3a1968a5",
   "metadata": {},
   "outputs": [],
   "source": []
  },
  {
   "cell_type": "code",
   "execution_count": 46,
   "id": "3406a37f",
   "metadata": {},
   "outputs": [
    {
     "data": {
      "text/html": [
       "<div>\n",
       "<style scoped>\n",
       "    .dataframe tbody tr th:only-of-type {\n",
       "        vertical-align: middle;\n",
       "    }\n",
       "\n",
       "    .dataframe tbody tr th {\n",
       "        vertical-align: top;\n",
       "    }\n",
       "\n",
       "    .dataframe thead th {\n",
       "        text-align: right;\n",
       "    }\n",
       "</style>\n",
       "<table border=\"1\" class=\"dataframe\">\n",
       "  <thead>\n",
       "    <tr style=\"text-align: right;\">\n",
       "      <th></th>\n",
       "      <th>customer_unique_id</th>\n",
       "      <th>geolocation_lat</th>\n",
       "      <th>geolocation_lng</th>\n",
       "      <th>frequency</th>\n",
       "      <th>monetary</th>\n",
       "      <th>recency</th>\n",
       "    </tr>\n",
       "  </thead>\n",
       "  <tbody>\n",
       "    <tr>\n",
       "      <th>101</th>\n",
       "      <td>003f4901fdb60ae9c1e2538b84c208e1</td>\n",
       "      <td>NaN</td>\n",
       "      <td>NaN</td>\n",
       "      <td>1</td>\n",
       "      <td>148.00</td>\n",
       "      <td>331.0</td>\n",
       "    </tr>\n",
       "    <tr>\n",
       "      <th>168</th>\n",
       "      <td>006b297ed73773b17d8874a2eb4466e8</td>\n",
       "      <td>NaN</td>\n",
       "      <td>NaN</td>\n",
       "      <td>1</td>\n",
       "      <td>89.90</td>\n",
       "      <td>191.0</td>\n",
       "    </tr>\n",
       "    <tr>\n",
       "      <th>249</th>\n",
       "      <td>00a39521eb40f7012db50455bf083460</td>\n",
       "      <td>NaN</td>\n",
       "      <td>NaN</td>\n",
       "      <td>2</td>\n",
       "      <td>81.45</td>\n",
       "      <td>136.0</td>\n",
       "    </tr>\n",
       "    <tr>\n",
       "      <th>439</th>\n",
       "      <td>0124721bc33e0aa6772b42d4ccfd01db</td>\n",
       "      <td>NaN</td>\n",
       "      <td>NaN</td>\n",
       "      <td>1</td>\n",
       "      <td>84.99</td>\n",
       "      <td>490.0</td>\n",
       "    </tr>\n",
       "    <tr>\n",
       "      <th>548</th>\n",
       "      <td>016e68615e12298a0a004a44d3b78579</td>\n",
       "      <td>NaN</td>\n",
       "      <td>NaN</td>\n",
       "      <td>1</td>\n",
       "      <td>49.90</td>\n",
       "      <td>132.0</td>\n",
       "    </tr>\n",
       "    <tr>\n",
       "      <th>...</th>\n",
       "      <td>...</td>\n",
       "      <td>...</td>\n",
       "      <td>...</td>\n",
       "      <td>...</td>\n",
       "      <td>...</td>\n",
       "      <td>...</td>\n",
       "    </tr>\n",
       "    <tr>\n",
       "      <th>93747</th>\n",
       "      <td>f9a19bbde55fdbb899189f8c71272570</td>\n",
       "      <td>NaN</td>\n",
       "      <td>NaN</td>\n",
       "      <td>1</td>\n",
       "      <td>13.70</td>\n",
       "      <td>286.0</td>\n",
       "    </tr>\n",
       "    <tr>\n",
       "      <th>94141</th>\n",
       "      <td>fac8b5e914037fc2e2476783585f0769</td>\n",
       "      <td>NaN</td>\n",
       "      <td>NaN</td>\n",
       "      <td>1</td>\n",
       "      <td>53.99</td>\n",
       "      <td>375.0</td>\n",
       "    </tr>\n",
       "    <tr>\n",
       "      <th>94192</th>\n",
       "      <td>fae89dc82c335fb681c6e5a0cd8c9f0d</td>\n",
       "      <td>NaN</td>\n",
       "      <td>NaN</td>\n",
       "      <td>1</td>\n",
       "      <td>289.00</td>\n",
       "      <td>358.0</td>\n",
       "    </tr>\n",
       "    <tr>\n",
       "      <th>94317</th>\n",
       "      <td>fb3d2759405ec9a4a3e8eb61653a0bec</td>\n",
       "      <td>NaN</td>\n",
       "      <td>NaN</td>\n",
       "      <td>1</td>\n",
       "      <td>159.90</td>\n",
       "      <td>305.0</td>\n",
       "    </tr>\n",
       "    <tr>\n",
       "      <th>94482</th>\n",
       "      <td>fbb25ad1452fbf7e073a084f8c2cbda6</td>\n",
       "      <td>NaN</td>\n",
       "      <td>NaN</td>\n",
       "      <td>1</td>\n",
       "      <td>19.90</td>\n",
       "      <td>242.0</td>\n",
       "    </tr>\n",
       "  </tbody>\n",
       "</table>\n",
       "<p>306 rows × 6 columns</p>\n",
       "</div>"
      ],
      "text/plain": [
       "                     customer_unique_id  geolocation_lat  geolocation_lng  \\\n",
       "101    003f4901fdb60ae9c1e2538b84c208e1              NaN              NaN   \n",
       "168    006b297ed73773b17d8874a2eb4466e8              NaN              NaN   \n",
       "249    00a39521eb40f7012db50455bf083460              NaN              NaN   \n",
       "439    0124721bc33e0aa6772b42d4ccfd01db              NaN              NaN   \n",
       "548    016e68615e12298a0a004a44d3b78579              NaN              NaN   \n",
       "...                                 ...              ...              ...   \n",
       "93747  f9a19bbde55fdbb899189f8c71272570              NaN              NaN   \n",
       "94141  fac8b5e914037fc2e2476783585f0769              NaN              NaN   \n",
       "94192  fae89dc82c335fb681c6e5a0cd8c9f0d              NaN              NaN   \n",
       "94317  fb3d2759405ec9a4a3e8eb61653a0bec              NaN              NaN   \n",
       "94482  fbb25ad1452fbf7e073a084f8c2cbda6              NaN              NaN   \n",
       "\n",
       "       frequency  monetary  recency  \n",
       "101            1    148.00    331.0  \n",
       "168            1     89.90    191.0  \n",
       "249            2     81.45    136.0  \n",
       "439            1     84.99    490.0  \n",
       "548            1     49.90    132.0  \n",
       "...          ...       ...      ...  \n",
       "93747          1     13.70    286.0  \n",
       "94141          1     53.99    375.0  \n",
       "94192          1    289.00    358.0  \n",
       "94317          1    159.90    305.0  \n",
       "94482          1     19.90    242.0  \n",
       "\n",
       "[306 rows x 6 columns]"
      ]
     },
     "execution_count": 46,
     "metadata": {},
     "output_type": "execute_result"
    }
   ],
   "source": [
    "df_rfm[df_rfm.geolocation_lat.isnull()]"
   ]
  },
  {
   "cell_type": "code",
   "execution_count": null,
   "id": "46fba9ad",
   "metadata": {},
   "outputs": [],
   "source": []
  }
 ],
 "metadata": {
  "kernelspec": {
   "display_name": "Python 3",
   "language": "python",
   "name": "python3"
  },
  "language_info": {
   "codemirror_mode": {
    "name": "ipython",
    "version": 3
   },
   "file_extension": ".py",
   "mimetype": "text/x-python",
   "name": "python",
   "nbconvert_exporter": "python",
   "pygments_lexer": "ipython3",
   "version": "3.8.8"
  }
 },
 "nbformat": 4,
 "nbformat_minor": 5
}
