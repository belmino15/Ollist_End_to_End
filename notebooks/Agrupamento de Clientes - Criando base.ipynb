{
 "cells": [
  {
   "cell_type": "code",
   "execution_count": 34,
   "id": "7c70eee1",
   "metadata": {},
   "outputs": [],
   "source": [
    "import pandas as pd\n",
    "import datetime\n",
    "from minio import Minio\n",
    "\n",
    "import sys\n",
    "sys.path.append(r'D:\\Documentos\\Projetos\\Ollist_End_to_End\\airflow\\dags')\n",
    "import functions as f"
   ]
  },
  {
   "cell_type": "code",
   "execution_count": 35,
   "id": "34c1706a",
   "metadata": {},
   "outputs": [],
   "source": [
    "data_lake_server= f.var['data_lake_server_local']\n",
    "data_lake_login= f.var['data_lake_login']\n",
    "data_lake_password= f.var['data_lake_password']\n",
    "\n",
    "client = Minio(\n",
    "        endpoint= data_lake_server,\n",
    "        access_key= data_lake_login,\n",
    "        secret_key= data_lake_password,\n",
    "        secure=False\n",
    "    )"
   ]
  },
  {
   "cell_type": "markdown",
   "id": "1e05d742",
   "metadata": {},
   "source": [
    "# Importando dados"
   ]
  },
  {
   "cell_type": "markdown",
   "id": "e7406c48",
   "metadata": {},
   "source": [
    "## Clientes"
   ]
  },
  {
   "cell_type": "code",
   "execution_count": 36,
   "id": "d16e309f",
   "metadata": {},
   "outputs": [
    {
     "data": {
      "text/html": [
       "<div>\n",
       "<style scoped>\n",
       "    .dataframe tbody tr th:only-of-type {\n",
       "        vertical-align: middle;\n",
       "    }\n",
       "\n",
       "    .dataframe tbody tr th {\n",
       "        vertical-align: top;\n",
       "    }\n",
       "\n",
       "    .dataframe thead th {\n",
       "        text-align: right;\n",
       "    }\n",
       "</style>\n",
       "<table border=\"1\" class=\"dataframe\">\n",
       "  <thead>\n",
       "    <tr style=\"text-align: right;\">\n",
       "      <th></th>\n",
       "      <th>customer_id</th>\n",
       "      <th>customer_unique_id</th>\n",
       "      <th>customer_zip_code_prefix</th>\n",
       "      <th>customer_city</th>\n",
       "      <th>customer_state</th>\n",
       "    </tr>\n",
       "  </thead>\n",
       "  <tbody>\n",
       "    <tr>\n",
       "      <th>0</th>\n",
       "      <td>06b8999e2fba1a1fbc88172c00ba8bc7</td>\n",
       "      <td>861eff4711a542e4b93843c6dd7febb0</td>\n",
       "      <td>14409</td>\n",
       "      <td>franca</td>\n",
       "      <td>SP</td>\n",
       "    </tr>\n",
       "    <tr>\n",
       "      <th>1</th>\n",
       "      <td>18955e83d337fd6b2def6b18a428ac77</td>\n",
       "      <td>290c77bc529b7ac935b93aa66c333dc3</td>\n",
       "      <td>9790</td>\n",
       "      <td>sao bernardo do campo</td>\n",
       "      <td>SP</td>\n",
       "    </tr>\n",
       "    <tr>\n",
       "      <th>2</th>\n",
       "      <td>4e7b3e00288586ebd08712fdd0374a03</td>\n",
       "      <td>060e732b5b29e8181a18229c7b0b2b5e</td>\n",
       "      <td>1151</td>\n",
       "      <td>sao paulo</td>\n",
       "      <td>SP</td>\n",
       "    </tr>\n",
       "    <tr>\n",
       "      <th>3</th>\n",
       "      <td>b2b6027bc5c5109e529d4dc6358b12c3</td>\n",
       "      <td>259dac757896d24d7702b9acbbff3f3c</td>\n",
       "      <td>8775</td>\n",
       "      <td>mogi das cruzes</td>\n",
       "      <td>SP</td>\n",
       "    </tr>\n",
       "    <tr>\n",
       "      <th>4</th>\n",
       "      <td>4f2d8ab171c80ec8364f7c12e35b23ad</td>\n",
       "      <td>345ecd01c38d18a9036ed96c73b8d066</td>\n",
       "      <td>13056</td>\n",
       "      <td>campinas</td>\n",
       "      <td>SP</td>\n",
       "    </tr>\n",
       "  </tbody>\n",
       "</table>\n",
       "</div>"
      ],
      "text/plain": [
       "                        customer_id                customer_unique_id  \\\n",
       "0  06b8999e2fba1a1fbc88172c00ba8bc7  861eff4711a542e4b93843c6dd7febb0   \n",
       "1  18955e83d337fd6b2def6b18a428ac77  290c77bc529b7ac935b93aa66c333dc3   \n",
       "2  4e7b3e00288586ebd08712fdd0374a03  060e732b5b29e8181a18229c7b0b2b5e   \n",
       "3  b2b6027bc5c5109e529d4dc6358b12c3  259dac757896d24d7702b9acbbff3f3c   \n",
       "4  4f2d8ab171c80ec8364f7c12e35b23ad  345ecd01c38d18a9036ed96c73b8d066   \n",
       "\n",
       "   customer_zip_code_prefix          customer_city customer_state  \n",
       "0                     14409                 franca             SP  \n",
       "1                      9790  sao bernardo do campo             SP  \n",
       "2                      1151              sao paulo             SP  \n",
       "3                      8775        mogi das cruzes             SP  \n",
       "4                     13056               campinas             SP  "
      ]
     },
     "execution_count": 36,
     "metadata": {},
     "output_type": "execute_result"
    }
   ],
   "source": [
    "customers = pd.read_parquet(f.read_minio_file(bucket_name= 'processing', file= 'olist_customers_dataset.parquet', client= client))\n",
    "customers.head()"
   ]
  },
  {
   "cell_type": "markdown",
   "id": "f8c689fd",
   "metadata": {},
   "source": [
    "## Pedidos"
   ]
  },
  {
   "cell_type": "code",
   "execution_count": 37,
   "id": "9ddf31c3",
   "metadata": {
    "scrolled": true
   },
   "outputs": [
    {
     "data": {
      "text/html": [
       "<div>\n",
       "<style scoped>\n",
       "    .dataframe tbody tr th:only-of-type {\n",
       "        vertical-align: middle;\n",
       "    }\n",
       "\n",
       "    .dataframe tbody tr th {\n",
       "        vertical-align: top;\n",
       "    }\n",
       "\n",
       "    .dataframe thead th {\n",
       "        text-align: right;\n",
       "    }\n",
       "</style>\n",
       "<table border=\"1\" class=\"dataframe\">\n",
       "  <thead>\n",
       "    <tr style=\"text-align: right;\">\n",
       "      <th></th>\n",
       "      <th>order_id</th>\n",
       "      <th>customer_id</th>\n",
       "      <th>order_status</th>\n",
       "      <th>order_purchase_timestamp</th>\n",
       "      <th>order_approved_at</th>\n",
       "      <th>order_delivered_carrier_date</th>\n",
       "      <th>order_delivered_customer_date</th>\n",
       "      <th>order_estimated_delivery_date</th>\n",
       "    </tr>\n",
       "  </thead>\n",
       "  <tbody>\n",
       "    <tr>\n",
       "      <th>0</th>\n",
       "      <td>e481f51cbdc54678b7cc49136f2d6af7</td>\n",
       "      <td>9ef432eb6251297304e76186b10a928d</td>\n",
       "      <td>delivered</td>\n",
       "      <td>2017-10-02 10:56:33</td>\n",
       "      <td>2017-10-02 11:07:15</td>\n",
       "      <td>2017-10-04 19:55:00</td>\n",
       "      <td>2017-10-10 21:25:13</td>\n",
       "      <td>2017-10-18 00:00:00</td>\n",
       "    </tr>\n",
       "    <tr>\n",
       "      <th>1</th>\n",
       "      <td>53cdb2fc8bc7dce0b6741e2150273451</td>\n",
       "      <td>b0830fb4747a6c6d20dea0b8c802d7ef</td>\n",
       "      <td>delivered</td>\n",
       "      <td>2018-07-24 20:41:37</td>\n",
       "      <td>2018-07-26 03:24:27</td>\n",
       "      <td>2018-07-26 14:31:00</td>\n",
       "      <td>2018-08-07 15:27:45</td>\n",
       "      <td>2018-08-13 00:00:00</td>\n",
       "    </tr>\n",
       "    <tr>\n",
       "      <th>2</th>\n",
       "      <td>47770eb9100c2d0c44946d9cf07ec65d</td>\n",
       "      <td>41ce2a54c0b03bf3443c3d931a367089</td>\n",
       "      <td>delivered</td>\n",
       "      <td>2018-08-08 08:38:49</td>\n",
       "      <td>2018-08-08 08:55:23</td>\n",
       "      <td>2018-08-08 13:50:00</td>\n",
       "      <td>2018-08-17 18:06:29</td>\n",
       "      <td>2018-09-04 00:00:00</td>\n",
       "    </tr>\n",
       "    <tr>\n",
       "      <th>3</th>\n",
       "      <td>949d5b44dbf5de918fe9c16f97b45f8a</td>\n",
       "      <td>f88197465ea7920adcdbec7375364d82</td>\n",
       "      <td>delivered</td>\n",
       "      <td>2017-11-18 19:28:06</td>\n",
       "      <td>2017-11-18 19:45:59</td>\n",
       "      <td>2017-11-22 13:39:59</td>\n",
       "      <td>2017-12-02 00:28:42</td>\n",
       "      <td>2017-12-15 00:00:00</td>\n",
       "    </tr>\n",
       "    <tr>\n",
       "      <th>4</th>\n",
       "      <td>ad21c59c0840e6cb83a9ceb5573f8159</td>\n",
       "      <td>8ab97904e6daea8866dbdbc4fb7aad2c</td>\n",
       "      <td>delivered</td>\n",
       "      <td>2018-02-13 21:18:39</td>\n",
       "      <td>2018-02-13 22:20:29</td>\n",
       "      <td>2018-02-14 19:46:34</td>\n",
       "      <td>2018-02-16 18:17:02</td>\n",
       "      <td>2018-02-26 00:00:00</td>\n",
       "    </tr>\n",
       "  </tbody>\n",
       "</table>\n",
       "</div>"
      ],
      "text/plain": [
       "                           order_id                       customer_id  \\\n",
       "0  e481f51cbdc54678b7cc49136f2d6af7  9ef432eb6251297304e76186b10a928d   \n",
       "1  53cdb2fc8bc7dce0b6741e2150273451  b0830fb4747a6c6d20dea0b8c802d7ef   \n",
       "2  47770eb9100c2d0c44946d9cf07ec65d  41ce2a54c0b03bf3443c3d931a367089   \n",
       "3  949d5b44dbf5de918fe9c16f97b45f8a  f88197465ea7920adcdbec7375364d82   \n",
       "4  ad21c59c0840e6cb83a9ceb5573f8159  8ab97904e6daea8866dbdbc4fb7aad2c   \n",
       "\n",
       "  order_status order_purchase_timestamp    order_approved_at  \\\n",
       "0    delivered      2017-10-02 10:56:33  2017-10-02 11:07:15   \n",
       "1    delivered      2018-07-24 20:41:37  2018-07-26 03:24:27   \n",
       "2    delivered      2018-08-08 08:38:49  2018-08-08 08:55:23   \n",
       "3    delivered      2017-11-18 19:28:06  2017-11-18 19:45:59   \n",
       "4    delivered      2018-02-13 21:18:39  2018-02-13 22:20:29   \n",
       "\n",
       "  order_delivered_carrier_date order_delivered_customer_date  \\\n",
       "0          2017-10-04 19:55:00           2017-10-10 21:25:13   \n",
       "1          2018-07-26 14:31:00           2018-08-07 15:27:45   \n",
       "2          2018-08-08 13:50:00           2018-08-17 18:06:29   \n",
       "3          2017-11-22 13:39:59           2017-12-02 00:28:42   \n",
       "4          2018-02-14 19:46:34           2018-02-16 18:17:02   \n",
       "\n",
       "  order_estimated_delivery_date  \n",
       "0           2017-10-18 00:00:00  \n",
       "1           2018-08-13 00:00:00  \n",
       "2           2018-09-04 00:00:00  \n",
       "3           2017-12-15 00:00:00  \n",
       "4           2018-02-26 00:00:00  "
      ]
     },
     "execution_count": 37,
     "metadata": {},
     "output_type": "execute_result"
    }
   ],
   "source": [
    "orders = pd.read_parquet(\n",
    "    f.read_minio_file(bucket_name= 'processing', file= 'olist_orders_dataset.parquet', client= client)\n",
    ")\n",
    "\n",
    "orders.order_purchase_timestamp = pd.to_datetime(orders.order_purchase_timestamp)\n",
    "orders.head()"
   ]
  },
  {
   "cell_type": "markdown",
   "id": "c4fcb57b",
   "metadata": {},
   "source": [
    "## Itens de Pedidos"
   ]
  },
  {
   "cell_type": "code",
   "execution_count": 38,
   "id": "7c89a4e5",
   "metadata": {},
   "outputs": [
    {
     "data": {
      "text/html": [
       "<div>\n",
       "<style scoped>\n",
       "    .dataframe tbody tr th:only-of-type {\n",
       "        vertical-align: middle;\n",
       "    }\n",
       "\n",
       "    .dataframe tbody tr th {\n",
       "        vertical-align: top;\n",
       "    }\n",
       "\n",
       "    .dataframe thead th {\n",
       "        text-align: right;\n",
       "    }\n",
       "</style>\n",
       "<table border=\"1\" class=\"dataframe\">\n",
       "  <thead>\n",
       "    <tr style=\"text-align: right;\">\n",
       "      <th></th>\n",
       "      <th>order_id</th>\n",
       "      <th>order_item_id</th>\n",
       "      <th>product_id</th>\n",
       "      <th>seller_id</th>\n",
       "      <th>shipping_limit_date</th>\n",
       "      <th>price</th>\n",
       "      <th>freight_value</th>\n",
       "    </tr>\n",
       "  </thead>\n",
       "  <tbody>\n",
       "    <tr>\n",
       "      <th>0</th>\n",
       "      <td>00010242fe8c5a6d1ba2dd792cb16214</td>\n",
       "      <td>1</td>\n",
       "      <td>4244733e06e7ecb4970a6e2683c13e61</td>\n",
       "      <td>48436dade18ac8b2bce089ec2a041202</td>\n",
       "      <td>2017-09-19 09:45:35</td>\n",
       "      <td>58.90</td>\n",
       "      <td>13.29</td>\n",
       "    </tr>\n",
       "    <tr>\n",
       "      <th>1</th>\n",
       "      <td>00018f77f2f0320c557190d7a144bdd3</td>\n",
       "      <td>1</td>\n",
       "      <td>e5f2d52b802189ee658865ca93d83a8f</td>\n",
       "      <td>dd7ddc04e1b6c2c614352b383efe2d36</td>\n",
       "      <td>2017-05-03 11:05:13</td>\n",
       "      <td>239.90</td>\n",
       "      <td>19.93</td>\n",
       "    </tr>\n",
       "    <tr>\n",
       "      <th>2</th>\n",
       "      <td>000229ec398224ef6ca0657da4fc703e</td>\n",
       "      <td>1</td>\n",
       "      <td>c777355d18b72b67abbeef9df44fd0fd</td>\n",
       "      <td>5b51032eddd242adc84c38acab88f23d</td>\n",
       "      <td>2018-01-18 14:48:30</td>\n",
       "      <td>199.00</td>\n",
       "      <td>17.87</td>\n",
       "    </tr>\n",
       "    <tr>\n",
       "      <th>3</th>\n",
       "      <td>00024acbcdf0a6daa1e931b038114c75</td>\n",
       "      <td>1</td>\n",
       "      <td>7634da152a4610f1595efa32f14722fc</td>\n",
       "      <td>9d7a1d34a5052409006425275ba1c2b4</td>\n",
       "      <td>2018-08-15 10:10:18</td>\n",
       "      <td>12.99</td>\n",
       "      <td>12.79</td>\n",
       "    </tr>\n",
       "    <tr>\n",
       "      <th>4</th>\n",
       "      <td>00042b26cf59d7ce69dfabb4e55b4fd9</td>\n",
       "      <td>1</td>\n",
       "      <td>ac6c3623068f30de03045865e4e10089</td>\n",
       "      <td>df560393f3a51e74553ab94004ba5c87</td>\n",
       "      <td>2017-02-13 13:57:51</td>\n",
       "      <td>199.90</td>\n",
       "      <td>18.14</td>\n",
       "    </tr>\n",
       "  </tbody>\n",
       "</table>\n",
       "</div>"
      ],
      "text/plain": [
       "                           order_id  order_item_id  \\\n",
       "0  00010242fe8c5a6d1ba2dd792cb16214              1   \n",
       "1  00018f77f2f0320c557190d7a144bdd3              1   \n",
       "2  000229ec398224ef6ca0657da4fc703e              1   \n",
       "3  00024acbcdf0a6daa1e931b038114c75              1   \n",
       "4  00042b26cf59d7ce69dfabb4e55b4fd9              1   \n",
       "\n",
       "                         product_id                         seller_id  \\\n",
       "0  4244733e06e7ecb4970a6e2683c13e61  48436dade18ac8b2bce089ec2a041202   \n",
       "1  e5f2d52b802189ee658865ca93d83a8f  dd7ddc04e1b6c2c614352b383efe2d36   \n",
       "2  c777355d18b72b67abbeef9df44fd0fd  5b51032eddd242adc84c38acab88f23d   \n",
       "3  7634da152a4610f1595efa32f14722fc  9d7a1d34a5052409006425275ba1c2b4   \n",
       "4  ac6c3623068f30de03045865e4e10089  df560393f3a51e74553ab94004ba5c87   \n",
       "\n",
       "   shipping_limit_date   price  freight_value  \n",
       "0  2017-09-19 09:45:35   58.90          13.29  \n",
       "1  2017-05-03 11:05:13  239.90          19.93  \n",
       "2  2018-01-18 14:48:30  199.00          17.87  \n",
       "3  2018-08-15 10:10:18   12.99          12.79  \n",
       "4  2017-02-13 13:57:51  199.90          18.14  "
      ]
     },
     "execution_count": 38,
     "metadata": {},
     "output_type": "execute_result"
    }
   ],
   "source": [
    "order_items = pd.read_parquet(\n",
    "    f.read_minio_file(bucket_name= 'processing', file= 'olist_order_items_dataset.parquet', client= client)\n",
    ")\n",
    "\n",
    "order_items.head()"
   ]
  },
  {
   "cell_type": "code",
   "execution_count": null,
   "id": "2ce4cf20",
   "metadata": {},
   "outputs": [],
   "source": []
  },
  {
   "cell_type": "markdown",
   "id": "e6cad3dc",
   "metadata": {},
   "source": [
    "## Geolocalização"
   ]
  },
  {
   "cell_type": "code",
   "execution_count": 39,
   "id": "bfa99d17",
   "metadata": {},
   "outputs": [
    {
     "data": {
      "text/html": [
       "<div>\n",
       "<style scoped>\n",
       "    .dataframe tbody tr th:only-of-type {\n",
       "        vertical-align: middle;\n",
       "    }\n",
       "\n",
       "    .dataframe tbody tr th {\n",
       "        vertical-align: top;\n",
       "    }\n",
       "\n",
       "    .dataframe thead th {\n",
       "        text-align: right;\n",
       "    }\n",
       "</style>\n",
       "<table border=\"1\" class=\"dataframe\">\n",
       "  <thead>\n",
       "    <tr style=\"text-align: right;\">\n",
       "      <th></th>\n",
       "      <th>geolocation_zip_code_prefix</th>\n",
       "      <th>geolocation_lat</th>\n",
       "      <th>geolocation_lng</th>\n",
       "      <th>geolocation_city</th>\n",
       "      <th>geolocation_state</th>\n",
       "    </tr>\n",
       "  </thead>\n",
       "  <tbody>\n",
       "    <tr>\n",
       "      <th>0</th>\n",
       "      <td>1037</td>\n",
       "      <td>-23.545621</td>\n",
       "      <td>-46.639292</td>\n",
       "      <td>sao paulo</td>\n",
       "      <td>SP</td>\n",
       "    </tr>\n",
       "    <tr>\n",
       "      <th>1</th>\n",
       "      <td>1046</td>\n",
       "      <td>-23.546081</td>\n",
       "      <td>-46.644820</td>\n",
       "      <td>sao paulo</td>\n",
       "      <td>SP</td>\n",
       "    </tr>\n",
       "    <tr>\n",
       "      <th>2</th>\n",
       "      <td>1046</td>\n",
       "      <td>-23.546129</td>\n",
       "      <td>-46.642951</td>\n",
       "      <td>sao paulo</td>\n",
       "      <td>SP</td>\n",
       "    </tr>\n",
       "    <tr>\n",
       "      <th>3</th>\n",
       "      <td>1041</td>\n",
       "      <td>-23.544392</td>\n",
       "      <td>-46.639499</td>\n",
       "      <td>sao paulo</td>\n",
       "      <td>SP</td>\n",
       "    </tr>\n",
       "    <tr>\n",
       "      <th>4</th>\n",
       "      <td>1035</td>\n",
       "      <td>-23.541578</td>\n",
       "      <td>-46.641607</td>\n",
       "      <td>sao paulo</td>\n",
       "      <td>SP</td>\n",
       "    </tr>\n",
       "  </tbody>\n",
       "</table>\n",
       "</div>"
      ],
      "text/plain": [
       "   geolocation_zip_code_prefix  geolocation_lat  geolocation_lng  \\\n",
       "0                         1037       -23.545621       -46.639292   \n",
       "1                         1046       -23.546081       -46.644820   \n",
       "2                         1046       -23.546129       -46.642951   \n",
       "3                         1041       -23.544392       -46.639499   \n",
       "4                         1035       -23.541578       -46.641607   \n",
       "\n",
       "  geolocation_city geolocation_state  \n",
       "0        sao paulo                SP  \n",
       "1        sao paulo                SP  \n",
       "2        sao paulo                SP  \n",
       "3        sao paulo                SP  \n",
       "4        sao paulo                SP  "
      ]
     },
     "execution_count": 39,
     "metadata": {},
     "output_type": "execute_result"
    }
   ],
   "source": [
    "geo = pd.read_csv(\n",
    "    f.read_minio_file(bucket_name= 'landing', file= 'olist_geolocation_dataset.csv', client= client)\n",
    ")\n",
    "\n",
    "geo.head()"
   ]
  },
  {
   "cell_type": "code",
   "execution_count": null,
   "id": "6b78ec9e",
   "metadata": {},
   "outputs": [],
   "source": []
  },
  {
   "cell_type": "markdown",
   "id": "9629b1a9",
   "metadata": {},
   "source": [
    "# Validando dados"
   ]
  },
  {
   "cell_type": "markdown",
   "id": "1fa466ee",
   "metadata": {},
   "source": [
    "## customers"
   ]
  },
  {
   "cell_type": "code",
   "execution_count": 40,
   "id": "e33e2157",
   "metadata": {},
   "outputs": [
    {
     "data": {
      "text/html": [
       "<div>\n",
       "<style scoped>\n",
       "    .dataframe tbody tr th:only-of-type {\n",
       "        vertical-align: middle;\n",
       "    }\n",
       "\n",
       "    .dataframe tbody tr th {\n",
       "        vertical-align: top;\n",
       "    }\n",
       "\n",
       "    .dataframe thead th {\n",
       "        text-align: right;\n",
       "    }\n",
       "</style>\n",
       "<table border=\"1\" class=\"dataframe\">\n",
       "  <thead>\n",
       "    <tr style=\"text-align: right;\">\n",
       "      <th></th>\n",
       "      <th>customer_id</th>\n",
       "      <th>customer_unique_id</th>\n",
       "      <th>customer_zip_code_prefix</th>\n",
       "      <th>customer_city</th>\n",
       "      <th>customer_state</th>\n",
       "    </tr>\n",
       "  </thead>\n",
       "  <tbody>\n",
       "    <tr>\n",
       "      <th>53966</th>\n",
       "      <td>47c47d5f6c02ce30ae9d9916399982dc</td>\n",
       "      <td>91b4967f242b083dd37c8e21469898ed</td>\n",
       "      <td>1210</td>\n",
       "      <td>sao paulo</td>\n",
       "      <td>SP</td>\n",
       "    </tr>\n",
       "  </tbody>\n",
       "</table>\n",
       "</div>"
      ],
      "text/plain": [
       "                            customer_id                customer_unique_id  \\\n",
       "53966  47c47d5f6c02ce30ae9d9916399982dc  91b4967f242b083dd37c8e21469898ed   \n",
       "\n",
       "       customer_zip_code_prefix customer_city customer_state  \n",
       "53966                      1210     sao paulo             SP  "
      ]
     },
     "execution_count": 40,
     "metadata": {},
     "output_type": "execute_result"
    }
   ],
   "source": [
    "customers.sample()"
   ]
  },
  {
   "cell_type": "code",
   "execution_count": 41,
   "id": "8edae196",
   "metadata": {},
   "outputs": [
    {
     "name": "stdout",
     "output_type": "stream",
     "text": [
      "Há 99441 linhas e 99441 clientes únicos\n"
     ]
    }
   ],
   "source": [
    "print('Há {} linhas e {} clientes únicos'.format(customers.shape[0], len(customers.customer_id.unique())))"
   ]
  },
  {
   "cell_type": "code",
   "execution_count": null,
   "id": "3ae9f91c",
   "metadata": {},
   "outputs": [],
   "source": []
  },
  {
   "cell_type": "markdown",
   "id": "14980bdd",
   "metadata": {},
   "source": [
    "## orders"
   ]
  },
  {
   "cell_type": "code",
   "execution_count": 42,
   "id": "0cfd1c83",
   "metadata": {},
   "outputs": [
    {
     "data": {
      "text/html": [
       "<div>\n",
       "<style scoped>\n",
       "    .dataframe tbody tr th:only-of-type {\n",
       "        vertical-align: middle;\n",
       "    }\n",
       "\n",
       "    .dataframe tbody tr th {\n",
       "        vertical-align: top;\n",
       "    }\n",
       "\n",
       "    .dataframe thead th {\n",
       "        text-align: right;\n",
       "    }\n",
       "</style>\n",
       "<table border=\"1\" class=\"dataframe\">\n",
       "  <thead>\n",
       "    <tr style=\"text-align: right;\">\n",
       "      <th></th>\n",
       "      <th>order_id</th>\n",
       "      <th>customer_id</th>\n",
       "      <th>order_status</th>\n",
       "      <th>order_purchase_timestamp</th>\n",
       "      <th>order_approved_at</th>\n",
       "      <th>order_delivered_carrier_date</th>\n",
       "      <th>order_delivered_customer_date</th>\n",
       "      <th>order_estimated_delivery_date</th>\n",
       "    </tr>\n",
       "  </thead>\n",
       "  <tbody>\n",
       "    <tr>\n",
       "      <th>21454</th>\n",
       "      <td>844ec50f4de4b51c2905edc92cfff82d</td>\n",
       "      <td>c231d1c8dfe0c0c263f5276e21a21545</td>\n",
       "      <td>delivered</td>\n",
       "      <td>2017-11-24 08:39:30</td>\n",
       "      <td>2017-11-25 04:30:55</td>\n",
       "      <td>2017-11-27 20:36:32</td>\n",
       "      <td>2017-11-28 23:41:34</td>\n",
       "      <td>2017-12-08 00:00:00</td>\n",
       "    </tr>\n",
       "  </tbody>\n",
       "</table>\n",
       "</div>"
      ],
      "text/plain": [
       "                               order_id                       customer_id  \\\n",
       "21454  844ec50f4de4b51c2905edc92cfff82d  c231d1c8dfe0c0c263f5276e21a21545   \n",
       "\n",
       "      order_status order_purchase_timestamp    order_approved_at  \\\n",
       "21454    delivered      2017-11-24 08:39:30  2017-11-25 04:30:55   \n",
       "\n",
       "      order_delivered_carrier_date order_delivered_customer_date  \\\n",
       "21454          2017-11-27 20:36:32           2017-11-28 23:41:34   \n",
       "\n",
       "      order_estimated_delivery_date  \n",
       "21454           2017-12-08 00:00:00  "
      ]
     },
     "execution_count": 42,
     "metadata": {},
     "output_type": "execute_result"
    }
   ],
   "source": [
    "orders.sample()"
   ]
  },
  {
   "cell_type": "code",
   "execution_count": 43,
   "id": "e904e99b",
   "metadata": {},
   "outputs": [
    {
     "name": "stdout",
     "output_type": "stream",
     "text": [
      "Há 99441 pedidos\n"
     ]
    }
   ],
   "source": [
    "print('Há {} pedidos'.format(orders.order_id.unique().shape[0]))"
   ]
  },
  {
   "cell_type": "code",
   "execution_count": 44,
   "id": "95f93a72",
   "metadata": {},
   "outputs": [
    {
     "data": {
      "text/plain": [
       "order_id                            0\n",
       "customer_id                         0\n",
       "order_status                        0\n",
       "order_purchase_timestamp            0\n",
       "order_approved_at                 160\n",
       "order_delivered_carrier_date     1783\n",
       "order_delivered_customer_date    2965\n",
       "order_estimated_delivery_date       0\n",
       "dtype: int64"
      ]
     },
     "execution_count": 44,
     "metadata": {},
     "output_type": "execute_result"
    }
   ],
   "source": [
    "orders.isnull().sum()"
   ]
  },
  {
   "cell_type": "markdown",
   "id": "436c34a4",
   "metadata": {},
   "source": [
    " - Não há valores nulos nas colunas de **'customer_id'** e **'order_purchase_timestamp'**"
   ]
  },
  {
   "cell_type": "code",
   "execution_count": 45,
   "id": "bf544a37",
   "metadata": {},
   "outputs": [
    {
     "name": "stdout",
     "output_type": "stream",
     "text": [
      "Há 99441 clientes únicos na base de pedidos\n"
     ]
    }
   ],
   "source": [
    "print('Há {} clientes únicos na base de pedidos'.format(orders.customer_id.unique().shape[0]))"
   ]
  },
  {
   "cell_type": "markdown",
   "id": "9d731fd2",
   "metadata": {},
   "source": [
    "- O número é igual a quantidade de clientes na base de clientes"
   ]
  },
  {
   "cell_type": "markdown",
   "id": "00dd5edc",
   "metadata": {},
   "source": [
    "#### Última compra registrada"
   ]
  },
  {
   "cell_type": "code",
   "execution_count": 46,
   "id": "9e0fe99a",
   "metadata": {},
   "outputs": [],
   "source": [
    "ult_compra = orders.order_purchase_timestamp.max()"
   ]
  },
  {
   "cell_type": "code",
   "execution_count": null,
   "id": "102ca3a5",
   "metadata": {},
   "outputs": [],
   "source": []
  },
  {
   "cell_type": "markdown",
   "id": "5b6187e8",
   "metadata": {},
   "source": [
    "## order_items"
   ]
  },
  {
   "cell_type": "code",
   "execution_count": 47,
   "id": "c934979e",
   "metadata": {},
   "outputs": [
    {
     "data": {
      "text/html": [
       "<div>\n",
       "<style scoped>\n",
       "    .dataframe tbody tr th:only-of-type {\n",
       "        vertical-align: middle;\n",
       "    }\n",
       "\n",
       "    .dataframe tbody tr th {\n",
       "        vertical-align: top;\n",
       "    }\n",
       "\n",
       "    .dataframe thead th {\n",
       "        text-align: right;\n",
       "    }\n",
       "</style>\n",
       "<table border=\"1\" class=\"dataframe\">\n",
       "  <thead>\n",
       "    <tr style=\"text-align: right;\">\n",
       "      <th></th>\n",
       "      <th>order_id</th>\n",
       "      <th>order_item_id</th>\n",
       "      <th>product_id</th>\n",
       "      <th>seller_id</th>\n",
       "      <th>shipping_limit_date</th>\n",
       "      <th>price</th>\n",
       "      <th>freight_value</th>\n",
       "    </tr>\n",
       "  </thead>\n",
       "  <tbody>\n",
       "    <tr>\n",
       "      <th>23540</th>\n",
       "      <td>35ae6fcf66dba4f6760a20b921867b2b</td>\n",
       "      <td>2</td>\n",
       "      <td>e5ae72c62ebfa708624f5029d609b160</td>\n",
       "      <td>88460e8ebdecbfecb5f9601833981930</td>\n",
       "      <td>2018-07-31 15:04:14</td>\n",
       "      <td>59.9</td>\n",
       "      <td>1.98</td>\n",
       "    </tr>\n",
       "  </tbody>\n",
       "</table>\n",
       "</div>"
      ],
      "text/plain": [
       "                               order_id  order_item_id  \\\n",
       "23540  35ae6fcf66dba4f6760a20b921867b2b              2   \n",
       "\n",
       "                             product_id                         seller_id  \\\n",
       "23540  e5ae72c62ebfa708624f5029d609b160  88460e8ebdecbfecb5f9601833981930   \n",
       "\n",
       "       shipping_limit_date  price  freight_value  \n",
       "23540  2018-07-31 15:04:14   59.9           1.98  "
      ]
     },
     "execution_count": 47,
     "metadata": {},
     "output_type": "execute_result"
    }
   ],
   "source": [
    "order_items.sample()"
   ]
  },
  {
   "cell_type": "code",
   "execution_count": 48,
   "id": "6f3ddc86",
   "metadata": {},
   "outputs": [
    {
     "data": {
      "text/plain": [
       "(112650, 7)"
      ]
     },
     "execution_count": 48,
     "metadata": {},
     "output_type": "execute_result"
    }
   ],
   "source": [
    "order_items.shape"
   ]
  },
  {
   "cell_type": "code",
   "execution_count": 49,
   "id": "5ce137f1",
   "metadata": {
    "scrolled": true
   },
   "outputs": [
    {
     "data": {
      "text/plain": [
       "order_id               0\n",
       "order_item_id          0\n",
       "product_id             0\n",
       "seller_id              0\n",
       "shipping_limit_date    0\n",
       "price                  0\n",
       "freight_value          0\n",
       "dtype: int64"
      ]
     },
     "execution_count": 49,
     "metadata": {},
     "output_type": "execute_result"
    }
   ],
   "source": [
    "order_items.isnull().sum()"
   ]
  },
  {
   "cell_type": "markdown",
   "id": "a5373bcf",
   "metadata": {},
   "source": [
    " - Não há valores nulos"
   ]
  },
  {
   "cell_type": "code",
   "execution_count": 50,
   "id": "2a9bd6cf",
   "metadata": {},
   "outputs": [
    {
     "name": "stdout",
     "output_type": "stream",
     "text": [
      "Há 98666 pedidos únicos na base de itens de pedido\n"
     ]
    }
   ],
   "source": [
    "print('Há {} pedidos únicos na base de itens de pedido'.format(order_items.order_id.unique().shape[0]))"
   ]
  },
  {
   "cell_type": "markdown",
   "id": "3578472b",
   "metadata": {},
   "source": [
    "#### Porque há menos pedidos na base de itens que na base de pedidos?"
   ]
  },
  {
   "cell_type": "code",
   "execution_count": 51,
   "id": "fa42eaf0",
   "metadata": {},
   "outputs": [],
   "source": [
    "list_order_items = order_items.order_id.to_list()"
   ]
  },
  {
   "cell_type": "code",
   "execution_count": 52,
   "id": "eec6f00e",
   "metadata": {},
   "outputs": [
    {
     "data": {
      "text/plain": [
       "unavailable    603\n",
       "canceled       164\n",
       "created          5\n",
       "invoiced         2\n",
       "shipped          1\n",
       "Name: order_status, dtype: int64"
      ]
     },
     "execution_count": 52,
     "metadata": {},
     "output_type": "execute_result"
    }
   ],
   "source": [
    "orders[~orders.order_id.isin(list_order_items)].order_status.value_counts()"
   ]
  },
  {
   "cell_type": "markdown",
   "id": "6491986a",
   "metadata": {},
   "source": [
    "- Dessa forma podemos validar que os pedidos sem preço se tratam de pedidos não entregues ainda. Assim, serão descartados na análise de agrupamento de clientes"
   ]
  },
  {
   "cell_type": "code",
   "execution_count": null,
   "id": "6f6da67f",
   "metadata": {},
   "outputs": [],
   "source": []
  },
  {
   "cell_type": "markdown",
   "id": "c4a35224",
   "metadata": {},
   "source": [
    "## geo"
   ]
  },
  {
   "cell_type": "code",
   "execution_count": 53,
   "id": "da7d5ca2",
   "metadata": {},
   "outputs": [
    {
     "data": {
      "text/plain": [
       "972251"
      ]
     },
     "execution_count": 53,
     "metadata": {},
     "output_type": "execute_result"
    }
   ],
   "source": [
    "geo[['geolocation_zip_code_prefix', 'geolocation_city', 'geolocation_state']].duplicated().sum()"
   ]
  },
  {
   "cell_type": "code",
   "execution_count": null,
   "id": "319d57f2",
   "metadata": {},
   "outputs": [],
   "source": []
  },
  {
   "cell_type": "markdown",
   "id": "4f2de59b",
   "metadata": {},
   "source": [
    "# Agrupamento de Clientes"
   ]
  },
  {
   "cell_type": "markdown",
   "id": "9c828d40",
   "metadata": {},
   "source": [
    "## Criando bases auxiliares"
   ]
  },
  {
   "cell_type": "markdown",
   "id": "5592598c",
   "metadata": {},
   "source": [
    "### Preço total de compras"
   ]
  },
  {
   "cell_type": "code",
   "execution_count": 54,
   "id": "0287e314",
   "metadata": {},
   "outputs": [],
   "source": [
    "price_per_order = order_items.groupby('order_id').price.sum().reset_index().rename(columns= {'price': 'monetary'})\n",
    "\n",
    "orders = pd.merge(orders, price_per_order, on= 'order_id', how= 'inner')"
   ]
  },
  {
   "cell_type": "markdown",
   "id": "c82a2bc3",
   "metadata": {},
   "source": [
    "### Data da última compra"
   ]
  },
  {
   "cell_type": "code",
   "execution_count": 55,
   "id": "2ad4d544",
   "metadata": {},
   "outputs": [],
   "source": [
    "orders['days_ult_compra'] = (ult_compra - orders.order_purchase_timestamp).dt.days"
   ]
  },
  {
   "cell_type": "markdown",
   "id": "63d18d82",
   "metadata": {},
   "source": [
    "### Unindo customers e geolocation"
   ]
  },
  {
   "cell_type": "code",
   "execution_count": 56,
   "id": "edb77b17",
   "metadata": {},
   "outputs": [],
   "source": [
    "geo_means = geo.groupby(\n",
    "        ['geolocation_zip_code_prefix', 'geolocation_city', 'geolocation_state']\n",
    "    )[['geolocation_lat', 'geolocation_lng']].mean().reset_index()\n",
    "\n",
    "customers = customers.merge(\n",
    "    geo_means,\n",
    "    left_on= ['customer_zip_code_prefix', 'customer_city', 'customer_state'],\n",
    "    right_on= ['geolocation_zip_code_prefix', 'geolocation_city', 'geolocation_state'],\n",
    "    how= 'left').drop(columns= ['geolocation_zip_code_prefix', 'geolocation_city', 'geolocation_state'])\n",
    "\n",
    "del geo_means"
   ]
  },
  {
   "cell_type": "markdown",
   "id": "2fb8be66",
   "metadata": {},
   "source": [
    "## Dataframe RFM"
   ]
  },
  {
   "cell_type": "code",
   "execution_count": 65,
   "id": "ca0ae44b",
   "metadata": {},
   "outputs": [],
   "source": [
    "df_rfm = \\\n",
    "pd.merge(\n",
    "    customers[['customer_unique_id', 'customer_id', 'geolocation_lat', 'geolocation_lng']],\n",
    "    orders[['customer_id', 'monetary', 'days_ult_compra']],\n",
    "    on= 'customer_id',\n",
    "    how= 'left')\\\n",
    ".groupby('customer_unique_id')\\\n",
    ".agg({\n",
    "    'geolocation_lat': 'mean',\n",
    "    'geolocation_lng': 'mean',\n",
    "    'customer_id': 'count',\n",
    "    'monetary': 'sum',\n",
    "    'days_ult_compra': 'min'\n",
    "}).reset_index()\\\n",
    ".rename(\n",
    "    columns= {\n",
    "        'customer_id': 'frequency',\n",
    "        'days_ult_compra': 'recency'\n",
    "    }\n",
    ")"
   ]
  },
  {
   "cell_type": "code",
   "execution_count": null,
   "id": "d65adc4f",
   "metadata": {},
   "outputs": [],
   "source": []
  },
  {
   "cell_type": "markdown",
   "id": "e8d7e5ea",
   "metadata": {},
   "source": [
    "#### Validação dos valores"
   ]
  },
  {
   "cell_type": "code",
   "execution_count": 66,
   "id": "2cd0bef5",
   "metadata": {},
   "outputs": [
    {
     "data": {
      "text/html": [
       "<div>\n",
       "<style scoped>\n",
       "    .dataframe tbody tr th:only-of-type {\n",
       "        vertical-align: middle;\n",
       "    }\n",
       "\n",
       "    .dataframe tbody tr th {\n",
       "        vertical-align: top;\n",
       "    }\n",
       "\n",
       "    .dataframe thead th {\n",
       "        text-align: right;\n",
       "    }\n",
       "</style>\n",
       "<table border=\"1\" class=\"dataframe\">\n",
       "  <thead>\n",
       "    <tr style=\"text-align: right;\">\n",
       "      <th></th>\n",
       "      <th>customer_unique_id</th>\n",
       "      <th>geolocation_lat</th>\n",
       "      <th>geolocation_lng</th>\n",
       "      <th>frequency</th>\n",
       "      <th>monetary</th>\n",
       "      <th>recency</th>\n",
       "    </tr>\n",
       "  </thead>\n",
       "  <tbody>\n",
       "    <tr>\n",
       "      <th>55419</th>\n",
       "      <td>93bc212addb25a5f5139fded3c2ee6b3</td>\n",
       "      <td>-28.847935</td>\n",
       "      <td>-51.891517</td>\n",
       "      <td>1</td>\n",
       "      <td>1519.46</td>\n",
       "      <td>377.0</td>\n",
       "    </tr>\n",
       "  </tbody>\n",
       "</table>\n",
       "</div>"
      ],
      "text/plain": [
       "                     customer_unique_id  geolocation_lat  geolocation_lng  \\\n",
       "55419  93bc212addb25a5f5139fded3c2ee6b3       -28.847935       -51.891517   \n",
       "\n",
       "       frequency  monetary  recency  \n",
       "55419          1   1519.46    377.0  "
      ]
     },
     "execution_count": 66,
     "metadata": {},
     "output_type": "execute_result"
    }
   ],
   "source": [
    "df_rfm.sample()"
   ]
  },
  {
   "cell_type": "code",
   "execution_count": 67,
   "id": "a4d8f295",
   "metadata": {},
   "outputs": [],
   "source": [
    "id_order = 'b62777d3969196b3329205b4d8e1ba0a'"
   ]
  },
  {
   "cell_type": "code",
   "execution_count": 68,
   "id": "bc0ae299",
   "metadata": {},
   "outputs": [
    {
     "data": {
      "text/html": [
       "<div>\n",
       "<style scoped>\n",
       "    .dataframe tbody tr th:only-of-type {\n",
       "        vertical-align: middle;\n",
       "    }\n",
       "\n",
       "    .dataframe tbody tr th {\n",
       "        vertical-align: top;\n",
       "    }\n",
       "\n",
       "    .dataframe thead th {\n",
       "        text-align: right;\n",
       "    }\n",
       "</style>\n",
       "<table border=\"1\" class=\"dataframe\">\n",
       "  <thead>\n",
       "    <tr style=\"text-align: right;\">\n",
       "      <th></th>\n",
       "      <th>order_id</th>\n",
       "      <th>customer_id</th>\n",
       "      <th>order_status</th>\n",
       "      <th>order_purchase_timestamp</th>\n",
       "      <th>order_approved_at</th>\n",
       "      <th>order_delivered_carrier_date</th>\n",
       "      <th>order_delivered_customer_date</th>\n",
       "      <th>order_estimated_delivery_date</th>\n",
       "      <th>monetary</th>\n",
       "      <th>days_ult_compra</th>\n",
       "    </tr>\n",
       "  </thead>\n",
       "  <tbody>\n",
       "    <tr>\n",
       "      <th>10830</th>\n",
       "      <td>bfcf79aaae774aa4030a0d2e2046c525</td>\n",
       "      <td>a27429e671f53ed883053fd2c9e33f1f</td>\n",
       "      <td>delivered</td>\n",
       "      <td>2017-08-10 13:44:51</td>\n",
       "      <td>2017-08-10 14:04:02</td>\n",
       "      <td>2017-08-17 16:52:37</td>\n",
       "      <td>2017-08-23 18:03:16</td>\n",
       "      <td>2017-09-05 00:00:00</td>\n",
       "      <td>31.99</td>\n",
       "      <td>433</td>\n",
       "    </tr>\n",
       "    <tr>\n",
       "      <th>54652</th>\n",
       "      <td>b3bb81a4fe1e47c62f92706ebdbf4e4b</td>\n",
       "      <td>b6f70fd2cf64a0aaa63332651fc24d3b</td>\n",
       "      <td>delivered</td>\n",
       "      <td>2017-08-07 19:07:37</td>\n",
       "      <td>2017-08-07 19:23:36</td>\n",
       "      <td>2017-08-10 16:40:38</td>\n",
       "      <td>2017-08-21 22:11:03</td>\n",
       "      <td>2017-08-31 00:00:00</td>\n",
       "      <td>22.99</td>\n",
       "      <td>435</td>\n",
       "    </tr>\n",
       "  </tbody>\n",
       "</table>\n",
       "</div>"
      ],
      "text/plain": [
       "                               order_id                       customer_id  \\\n",
       "10830  bfcf79aaae774aa4030a0d2e2046c525  a27429e671f53ed883053fd2c9e33f1f   \n",
       "54652  b3bb81a4fe1e47c62f92706ebdbf4e4b  b6f70fd2cf64a0aaa63332651fc24d3b   \n",
       "\n",
       "      order_status order_purchase_timestamp    order_approved_at  \\\n",
       "10830    delivered      2017-08-10 13:44:51  2017-08-10 14:04:02   \n",
       "54652    delivered      2017-08-07 19:07:37  2017-08-07 19:23:36   \n",
       "\n",
       "      order_delivered_carrier_date order_delivered_customer_date  \\\n",
       "10830          2017-08-17 16:52:37           2017-08-23 18:03:16   \n",
       "54652          2017-08-10 16:40:38           2017-08-21 22:11:03   \n",
       "\n",
       "      order_estimated_delivery_date  monetary  days_ult_compra  \n",
       "10830           2017-09-05 00:00:00     31.99              433  \n",
       "54652           2017-08-31 00:00:00     22.99              435  "
      ]
     },
     "execution_count": 68,
     "metadata": {},
     "output_type": "execute_result"
    }
   ],
   "source": [
    "customer_id_list = customers[customers.customer_unique_id == id_order].customer_id.to_list()\n",
    "orders[orders.customer_id.isin(customer_id_list)]"
   ]
  },
  {
   "cell_type": "code",
   "execution_count": 69,
   "id": "83df46a2",
   "metadata": {},
   "outputs": [
    {
     "data": {
      "text/html": [
       "<div>\n",
       "<style scoped>\n",
       "    .dataframe tbody tr th:only-of-type {\n",
       "        vertical-align: middle;\n",
       "    }\n",
       "\n",
       "    .dataframe tbody tr th {\n",
       "        vertical-align: top;\n",
       "    }\n",
       "\n",
       "    .dataframe thead th {\n",
       "        text-align: right;\n",
       "    }\n",
       "</style>\n",
       "<table border=\"1\" class=\"dataframe\">\n",
       "  <thead>\n",
       "    <tr style=\"text-align: right;\">\n",
       "      <th></th>\n",
       "      <th>order_id</th>\n",
       "      <th>order_item_id</th>\n",
       "      <th>product_id</th>\n",
       "      <th>seller_id</th>\n",
       "      <th>shipping_limit_date</th>\n",
       "      <th>price</th>\n",
       "      <th>freight_value</th>\n",
       "    </tr>\n",
       "  </thead>\n",
       "  <tbody>\n",
       "    <tr>\n",
       "      <th>79018</th>\n",
       "      <td>b3bb81a4fe1e47c62f92706ebdbf4e4b</td>\n",
       "      <td>1</td>\n",
       "      <td>b0c1e71a37e29bd3d463eb93e4861c6a</td>\n",
       "      <td>1caf283236cd69af44cbc09a0a1e7d32</td>\n",
       "      <td>2017-08-11 19:23:36</td>\n",
       "      <td>22.99</td>\n",
       "      <td>16.11</td>\n",
       "    </tr>\n",
       "    <tr>\n",
       "      <th>84425</th>\n",
       "      <td>bfcf79aaae774aa4030a0d2e2046c525</td>\n",
       "      <td>1</td>\n",
       "      <td>c982dbea53b864f4d27c1d36f14b6053</td>\n",
       "      <td>1caf283236cd69af44cbc09a0a1e7d32</td>\n",
       "      <td>2017-08-16 14:04:02</td>\n",
       "      <td>31.99</td>\n",
       "      <td>16.11</td>\n",
       "    </tr>\n",
       "  </tbody>\n",
       "</table>\n",
       "</div>"
      ],
      "text/plain": [
       "                               order_id  order_item_id  \\\n",
       "79018  b3bb81a4fe1e47c62f92706ebdbf4e4b              1   \n",
       "84425  bfcf79aaae774aa4030a0d2e2046c525              1   \n",
       "\n",
       "                             product_id                         seller_id  \\\n",
       "79018  b0c1e71a37e29bd3d463eb93e4861c6a  1caf283236cd69af44cbc09a0a1e7d32   \n",
       "84425  c982dbea53b864f4d27c1d36f14b6053  1caf283236cd69af44cbc09a0a1e7d32   \n",
       "\n",
       "       shipping_limit_date  price  freight_value  \n",
       "79018  2017-08-11 19:23:36  22.99          16.11  \n",
       "84425  2017-08-16 14:04:02  31.99          16.11  "
      ]
     },
     "execution_count": 69,
     "metadata": {},
     "output_type": "execute_result"
    }
   ],
   "source": [
    "order_list = orders[orders.customer_id.isin(customer_id_list)].order_id.to_list()\n",
    "order_items[order_items.order_id.isin(order_list)]"
   ]
  },
  {
   "cell_type": "code",
   "execution_count": null,
   "id": "3a1968a5",
   "metadata": {},
   "outputs": [],
   "source": []
  }
 ],
 "metadata": {
  "kernelspec": {
   "display_name": "Python 3",
   "language": "python",
   "name": "python3"
  },
  "language_info": {
   "codemirror_mode": {
    "name": "ipython",
    "version": 3
   },
   "file_extension": ".py",
   "mimetype": "text/x-python",
   "name": "python",
   "nbconvert_exporter": "python",
   "pygments_lexer": "ipython3",
   "version": "3.8.8"
  }
 },
 "nbformat": 4,
 "nbformat_minor": 5
}
